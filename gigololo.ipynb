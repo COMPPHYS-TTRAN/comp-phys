{
 "cells": [
  {
   "cell_type": "code",
   "execution_count": null,
   "metadata": {
    "collapsed": true
   },
   "outputs": [],
   "source": [
    "'''Terry and Jacob's program that provides output of the perfect date based on a series of input such as the following:\n",
    "\n",
    "1. Staying in vs. going out\n",
    "2. Local vs. travel\n",
    "3. Food........!!!!!!!!!!!!!!!!!\n",
    "4. Movies......!!!!!!!!!!!!!!!!!\n",
    "5. Etc., etc., etc.\n",
    "\n",
    "'''\n",
    "\n",
    "class JT:\n",
    "    \n",
    "    def __init__(self, mood):\n",
    "        self.mood = mood\n",
    "    \n",
    "    def food(self, delivery == True):\n",
    "        if delivery == True:\n",
    "            #spit out delivery options\n",
    "        \n",
    "        else:\n",
    "            #spit out dine out options\n",
    "            \n",
    "    def movies(self, genre):\n",
    "    \n",
    "    def dates(self, time, setting, )\n",
    "        "
   ]
  }
 ],
 "metadata": {
  "kernelspec": {
   "display_name": "Python 2",
   "language": "python",
   "name": "python2"
  },
  "language_info": {
   "codemirror_mode": {
    "name": "ipython",
    "version": 2
   },
   "file_extension": ".py",
   "mimetype": "text/x-python",
   "name": "python",
   "nbconvert_exporter": "python",
   "pygments_lexer": "ipython2",
   "version": "2.7.9"
  }
 },
 "nbformat": 4,
 "nbformat_minor": 0
}
