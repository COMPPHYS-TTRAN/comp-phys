{
 "cells": [
  {
   "cell_type": "code",
   "execution_count": 3,
   "metadata": {
    "collapsed": false
   },
   "outputs": [
    {
     "name": "stderr",
     "output_type": "stream",
     "text": [
      "usage: __main__.py [-h] [-a A] [-b B]\n",
      "__main__.py: error: unrecognized arguments: -f /Users/TerryTran/.ipython/profile_default/security/kernel-5f87c0fd-09fe-4db0-9b60-6ad99ea73354.json --profile-dir /Users/TerryTran/.ipython/profile_default\n"
     ]
    },
    {
     "ename": "SystemExit",
     "evalue": "2",
     "output_type": "error",
     "traceback": [
      "An exception has occurred, use %tb to see the full traceback.\n",
      "\u001b[0;31mSystemExit\u001b[0m\u001b[0;31m:\u001b[0m 2\n"
     ]
    },
    {
     "name": "stderr",
     "output_type": "stream",
     "text": [
      "To exit: use 'exit', 'quit', or Ctrl-D.\n"
     ]
    }
   ],
   "source": [
    "'''\n",
    "#HW03\n",
    "#Terry Tran\n",
    "#Partner: Jacob Baca\n",
    "\n",
    ">>> prime(33, 101)\n",
    "[37, 41, 43, 47, 53, 59, 61, 67, 71, 73, 79, 83, 89, 97, 101]\n",
    ">>> prime(1, 10)\n",
    "[2, 3, 5, 7]\n",
    "\n",
    "'''\n",
    "\n",
    "import numpy as np \n",
    "import pdb\n",
    "\n",
    "def prime(a, b):\n",
    "\n",
    "    #pdb.set_trace()\n",
    "    numbers = np.arange(a, b+1, 1)\n",
    "    digits = np.arange(1, b+1, 1)\n",
    "    prime_list = []\n",
    "    for n in numbers:\n",
    "        count = 0\n",
    "        for d in digits:\n",
    "            remain = n % d\n",
    "            if remain == 0: #the remainder is zero when the number is perfectly divisible\n",
    "                            #prime number is only perfectly divisible twice\n",
    "                count += 1\n",
    "        if count == 2:\n",
    "            prime_list.append(n)\n",
    "    return prime_list     \n",
    "\n",
    "if __name__ == \"__main__\":\n",
    "    import doctest\n",
    "    import argparse\n",
    "    \n",
    "    parser = argparse.ArgumentParser()\n",
    "    parser.add_argument('-a', type = int)\n",
    "    parser.add_argument('-b', type = int)\n",
    "    args = parser.parse_args()\n",
    "    a = args.a\n",
    "    b = args.b\n",
    "    \n",
    "    print prime(a, b)"
   ]
  },
  {
   "cell_type": "code",
   "execution_count": 4,
   "metadata": {
    "collapsed": false
   },
   "outputs": [],
   "source": [
    "'''\n",
    "#HW03\n",
    "#Terry Tran\n",
    "#Partner: Jacob Baca\n",
    "\n",
    "'''\n",
    "\n",
    "import numpy as np\n",
    "import matplotlib.pyplot as plt\n",
    "from mpl_toolkits.mplot3d import axes3d\n",
    "from matplotlib import cm #color map\n",
    "\n",
    "\n",
    "def antisym(x1, x2, n1 = 1, n2 = 2, a = 1.0):\n",
    "\n",
    "    wave = (2./a)*((np.sin((n1*np.pi*x1)/a)*(np.sin((n2*np.pi*x2)/a)))-(np.sin((n1*np.pi*x2)/a)*(np.sin((n2*np.pi*x1)/a))))\n",
    "    prob_dens = np.abs(wave)**2\n",
    "    return wave, prob_dens\n",
    "\n",
    "    \n",
    "fig = plt.figure()\n",
    "ax = fig.add_subplot(121, projection = '3d')\n",
    "plt.title('Wave Function')\n",
    "\n",
    "ay = fig.add_subplot(122, projection = '3d')\n",
    "plt.title('Probability Density')\n",
    "\n",
    "\n",
    "plt.suptitle('Antisymmetric Spatial Wave Function')\n",
    "x1 = x2 = np.linspace(-1, 1, 50)\n",
    "xv, yv = np.meshgrid(x1, x2)\n",
    "\n",
    "\n",
    "w, pd = antisym(xv, yv)\n",
    "\n",
    "ax.plot_surface(xv, yv, w, rstride = 1, cstride = 1, cmap = cm.coolwarm, linewidth = 0)\n",
    "ay.plot_surface(xv, yv, pd, rstride = 1, cstride = 1, cmap = cm.coolwarm, linewidth = 0)\n",
    "\n",
    "fig.text(.1, 0, 'The \"effective\" interaction between two neutral Fermions (both spin up) that arises \\n from the symmetry requirement on the total wave function.')\n",
    "plt.show()"
   ]
  },
  {
   "cell_type": "code",
   "execution_count": null,
   "metadata": {
    "collapsed": true
   },
   "outputs": [],
   "source": []
  }
 ],
 "metadata": {
  "kernelspec": {
   "display_name": "Python 2",
   "language": "python",
   "name": "python2"
  },
  "language_info": {
   "codemirror_mode": {
    "name": "ipython",
    "version": 2
   },
   "file_extension": ".py",
   "mimetype": "text/x-python",
   "name": "python",
   "nbconvert_exporter": "python",
   "pygments_lexer": "ipython2",
   "version": "2.7.9"
  }
 },
 "nbformat": 4,
 "nbformat_minor": 0
}
