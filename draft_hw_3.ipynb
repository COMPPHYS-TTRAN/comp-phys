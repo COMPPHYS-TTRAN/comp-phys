{
 "cells": [
  {
   "cell_type": "code",
   "execution_count": 51,
   "metadata": {
    "collapsed": false
   },
   "outputs": [],
   "source": [
    "import math\n",
    "import numpy as np\n",
    "import pdb\n",
    "\n",
    "def prime(a, b):\n",
    "    \n",
    "    array = np.arange(a, b+1, 1) #create a range of numbers \n",
    "    array_test = np.arange(1, 10, 1) #iterate through this list to find prime numbers\n",
    "    prime = [] #initilize empty list of prime numbers \n",
    "    \n",
    "    #pdb.set_trace()\n",
    "    for n in array:\n",
    "        n = float(n)\n",
    "        for k in array_test:\n",
    "            k = float(k)\n",
    "            print n, '/', k, ' = ', n/k, 'remainder = ', n%k\n",
    "    if n%k == 0 and k == 1 and n == k:\n",
    "        prime = prime.append(n)\n",
    "        return prime\n",
    "prime(1, 10)"
   ]
  },
  {
   "cell_type": "code",
   "execution_count": null,
   "metadata": {
    "collapsed": true
   },
   "outputs": [],
   "source": []
  }
 ],
 "metadata": {
  "kernelspec": {
   "display_name": "Python 2",
   "language": "python",
   "name": "python2"
  },
  "language_info": {
   "codemirror_mode": {
    "name": "ipython",
    "version": 2
   },
   "file_extension": ".py",
   "mimetype": "text/x-python",
   "name": "python",
   "nbconvert_exporter": "python",
   "pygments_lexer": "ipython2",
   "version": "2.7.9"
  }
 },
 "nbformat": 4,
 "nbformat_minor": 0
}
