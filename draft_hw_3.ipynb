{
 "cells": [
  {
   "cell_type": "code",
   "execution_count": 28,
   "metadata": {
    "collapsed": false
   },
   "outputs": [
    {
     "ename": "IndentationError",
     "evalue": "expected an indented block (<ipython-input-28-70a7e737356b>, line 42)",
     "output_type": "error",
     "traceback": [
      "\u001b[0;36m  File \u001b[0;32m\"<ipython-input-28-70a7e737356b>\"\u001b[0;36m, line \u001b[0;32m42\u001b[0m\n\u001b[0;31m    prime(1, 20)\u001b[0m\n\u001b[0m                ^\u001b[0m\n\u001b[0;31mIndentationError\u001b[0m\u001b[0;31m:\u001b[0m expected an indented block\n"
     ]
    }
   ],
   "source": [
    "'''\n",
    "#HW03\n",
    "#Terry Tran\n",
    "#Partner: Jacob Baca\n",
    "\n",
    "'''\n",
    "import numpy as np\n",
    "import pdb\n",
    "\n",
    "def prime(a, b):\n",
    "    '''\n",
    "    #HW03\n",
    "    #Terry Tran\n",
    "    #Partner: Jacob Baca\n",
    "\n",
    "    '''\n",
    "    \n",
    "    array = np.arange(a, b+1, 1) #create a range of numbers \n",
    "    array_test = np.arange(a, b+1, 1) #iterate through this list to find prime numbers\n",
    "    prime = [] #initilize empty list of prime numbers \n",
    "    count = 0\n",
    "    #pdb.set_trace()\n",
    "    \n",
    "    while count < 2:\n",
    "        prime = prime.append(n)\n",
    "        return prime\n",
    "    \n",
    "        for n in array:\n",
    "            n = float(n)\n",
    "            for k in array_test:\n",
    "                k = float(k)\n",
    "                answer = n/k\n",
    "                if answer \n",
    "    \n",
    "    \n",
    "        for n in array:\n",
    "            n = float(n)\n",
    "            for k in array_test:\n",
    "                k = float(k)\n",
    "                #print n, '/', k, ' = ', n/k, 'remainder = ', n%k\n",
    "                remain = n%k\n",
    "                if remain != 0: #remainder is something # prime/one #prime/itself #can only do this twice\n",
    "prime(1, 20)\n",
    "\n",
    "print 'docstring for prime(a, b): ', prime.__doc__"
   ]
  },
  {
   "cell_type": "code",
   "execution_count": null,
   "metadata": {
    "collapsed": false
   },
   "outputs": [],
   "source": [
    "import numpy as np \n",
    "import pdb\n",
    "\n",
    "def prime(a, b):\n",
    "    '''\n",
    "    #HW03\n",
    "    #Terry Tran\n",
    "    #Partner: Jacob Bacababababalolololololol\n",
    "    '''\n",
    "    pdb.set_trace()\n",
    "    numbers = np.linspace(a, b, 1)\n",
    "    for n in numbers:\n",
    "        remain = \n",
    "        \n",
    "    \n",
    "prime(33, 40)"
   ]
  },
  {
   "cell_type": "code",
   "execution_count": null,
   "metadata": {
    "collapsed": true
   },
   "outputs": [],
   "source": [
    "#"
   ]
  }
 ],
 "metadata": {
  "kernelspec": {
   "display_name": "Python 2",
   "language": "python",
   "name": "python2"
  }
 },
 "nbformat": 4,
 "nbformat_minor": 0
}
