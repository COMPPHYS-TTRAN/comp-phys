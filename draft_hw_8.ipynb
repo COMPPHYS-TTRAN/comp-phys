{
 "cells": [
  {
   "cell_type": "code",
   "execution_count": 209,
   "metadata": {
    "collapsed": false
   },
   "outputs": [
    {
     "ename": "SyntaxError",
     "evalue": "'return' outside function (<ipython-input-209-4a66ac2bfcd9>, line 19)",
     "output_type": "error",
     "traceback": [
      "\u001b[0;36m  File \u001b[0;32m\"<ipython-input-209-4a66ac2bfcd9>\"\u001b[0;36m, line \u001b[0;32m19\u001b[0m\n\u001b[0;31m    return edge_pix\u001b[0m\n\u001b[0;31mSyntaxError\u001b[0m\u001b[0;31m:\u001b[0m 'return' outside function\n"
     ]
    }
   ],
   "source": [
    "#part 1: image preparation \n",
    "\n",
    "#y_lo, y_hi crop y direction\n",
    "#x_lo, x_hi crop x direction\n",
    "#edge_pix removes the edge crap\n",
    "#plot_let self explanatory\n",
    "\n",
    "from __future__ import print_function, division #refers to python3\n",
    "import numpy as np\n",
    "import matplotlib.pyplot as plt\n",
    "import matplotlib.image as mpimg\n",
    "from sklearn.decomposition import PCA\n",
    "\n",
    "#edge_pix dictionary; key = letter, value = amount to crop AKA edge_pix\n",
    "epd = {'A': 138, 'B': 130, 'C': 129, 'D': 140, 'E': 120, 'F': 113, 'G': 146, 'H': 146, 'I': 146, 'J': 86, 'K': 127, 'L': 100, 'M': 160, 'N': 160, 'O': 155, 'P': 126, 'Q': 155, 'R': 131, 'S': 114, 'T': 121, 'U': 135, 'V': 137, 'W': 210, 'X': 127, 'Y': 120, 'Z': 115}             \n",
    "\n",
    "for argh in epd:\n",
    "    edge_pix = epd.values()\n",
    "\n",
    "def make_let_im(let_file, edge_pix, dim = 16, y_lo = 70, y_hi = 220, x_lo = 10, x_hi = 200, plot_let = False):\n",
    "    \n",
    "    #1 display cropped image\n",
    "    letter = mpimg.imread(let_file)\n",
    "    letterr = letter[:, :, 0]\n",
    "    print(letterr.shape)\n",
    "    \n",
    "    cropped = letterr[y_lo: y_hi, x_lo: x_hi]\n",
    "    cropped[:, edge_pix:] = 1\n",
    "    print(cropped.shape)\n",
    "    \n",
    "    if plot_let:\n",
    "        plt.imshow(cropped, cmap = 'gray')\n",
    "        plt.show()\n",
    "        \n",
    "\n",
    "hello = make_let_im('letterZ.png', plot_let = True)\n",
    "\n",
    "    "
   ]
  },
  {
   "cell_type": "code",
   "execution_count": 207,
   "metadata": {
    "collapsed": false
   },
   "outputs": [
    {
     "ename": "AttributeError",
     "evalue": "'dict' object has no attribute 'get_key'",
     "output_type": "error",
     "traceback": [
      "\u001b[0;31m---------------------------------------------------------------------------\u001b[0m",
      "\u001b[0;31mAttributeError\u001b[0m                            Traceback (most recent call last)",
      "\u001b[0;32m<ipython-input-207-ca24838208df>\u001b[0m in \u001b[0;36m<module>\u001b[0;34m()\u001b[0m\n\u001b[1;32m      1\u001b[0m \u001b[0mh\u001b[0m \u001b[0;34m=\u001b[0m \u001b[0;34m{\u001b[0m\u001b[0;34m'dicks'\u001b[0m\u001b[0;34m:\u001b[0m \u001b[0;36m69\u001b[0m\u001b[0;34m}\u001b[0m\u001b[0;34m\u001b[0m\u001b[0m\n\u001b[1;32m      2\u001b[0m \u001b[0mtype\u001b[0m\u001b[0;34m(\u001b[0m\u001b[0mh\u001b[0m\u001b[0;34m)\u001b[0m\u001b[0;34m\u001b[0m\u001b[0m\n\u001b[0;32m----> 3\u001b[0;31m \u001b[0mh\u001b[0m\u001b[0;34m.\u001b[0m\u001b[0mget_key\u001b[0m\u001b[0;34m(\u001b[0m\u001b[0;34m)\u001b[0m\u001b[0;34m\u001b[0m\u001b[0m\n\u001b[0m",
      "\u001b[0;31mAttributeError\u001b[0m: 'dict' object has no attribute 'get_key'"
     ]
    }
   ],
   "source": [
    "h = {'dicks': 69}\n",
    "type(h)\n",
    "h.get_key()"
   ]
  },
  {
   "cell_type": "code",
   "execution_count": null,
   "metadata": {
    "collapsed": true
   },
   "outputs": [],
   "source": []
  }
 ],
 "metadata": {
  "kernelspec": {
   "display_name": "Python 2",
   "language": "python",
   "name": "python2"
  },
  "language_info": {
   "codemirror_mode": {
    "name": "ipython",
    "version": 2
   },
   "file_extension": ".py",
   "mimetype": "text/x-python",
   "name": "python",
   "nbconvert_exporter": "python",
   "pygments_lexer": "ipython2",
   "version": "2.7.9"
  }
 },
 "nbformat": 4,
 "nbformat_minor": 0
}
