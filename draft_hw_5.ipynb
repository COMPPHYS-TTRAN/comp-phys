{
 "cells": [
  {
   "cell_type": "code",
   "execution_count": null,
   "metadata": {
    "collapsed": true
   },
   "outputs": [],
   "source": [
    "class Tone(f, dur, sr, signal, orig_signal, overtones, OT_num):\n",
    "    \n",
    "    def __init__(self, f, dur, sr, signal, orig_signal, overtones, OT_num):\n",
    "        self.f = 0 #int #frequency\n",
    "        self.dur = 0 #int #duration\n",
    "        self.sr = 0 #int #sampling rate \n",
    "        self.signal = 0 #numpy array #stores the tone plus the overtones\n",
    "        self.orig_signal = 0 #numpy array #stores the simple one-frequency tone with frequency f1\n",
    "        self.overtones = {} #dictionary #stores overtones #\n",
    "                            #key: a number of multiples of f1 #value: an overtone numpy array\n",
    "        self.OT_num = 0 #the number of overtones present\n",
    "                        #should increase by one each time a new overtone is created\n",
    "    \n",
    "    def playsound(self, sr, signal):\n",
    "        from scipy.io.wavfile import write\n",
    "        import os\n",
    "        write('tmp.wav', self.sr, self.signal)\n",
    "        os.system(\"afplay tmp.wav\") \n",
    "        os.system(\"rm tmp.wav\") \n",
    "        return\n",
    "    \n",
    "    def get_tone(self, f, dur, sr, play_sound = False):\n",
    "        amp = 2**10\n",
    "        time_pts = np.linspace(0, self.dur, self.dur*self.sr)\n",
    "        tone_data = np.int16(amp*np.sin(np.pi*2*self.f*time_pts))\n",
    "        if play_sound == True:\n",
    "            playsound(sample_rate, tone_data)\n",
    "        return tone_data #numpy array #generated tone \n",
    "    \n",
    "    def get_overtone(self, f, dur, sr, multi, play_sound = False):\n",
    "        fr = multi*f\n",
    "        amp = 2**10\n",
    "        time_pts = np.linspace(0, self.dur, self.dur*self.sr)\n",
    "        overtone_data = np.int16(amp*np.sin(np.pi*2*self.fr*time_pts))\n",
    "        return None\n",
    "    \n",
    "    def comb_tones(self, )"
   ]
  }
 ],
 "metadata": {
  "kernelspec": {
   "display_name": "Python 2",
   "language": "python",
   "name": "python2"
  },
  "language_info": {
   "codemirror_mode": {
    "name": "ipython",
    "version": 2
   },
   "file_extension": ".py",
   "mimetype": "text/x-python",
   "name": "python",
   "nbconvert_exporter": "python",
   "pygments_lexer": "ipython2",
   "version": "2.7.9"
  }
 },
 "nbformat": 4,
 "nbformat_minor": 0
}
