{
 "cells": [
  {
   "cell_type": "code",
   "execution_count": null,
   "metadata": {
    "collapsed": true
   },
   "outputs": [],
   "source": [
    "#homework no. 1, using Riemann sums\n",
    "import math\n",
    "\n",
    "integral = (y^3)/((e^y)-1)\n",
    "#n is the number of rectangles/step value\n",
    "#n will become smaller as the value of integral becomes more accurate\n",
    "#b is the end value, will always be 100\n",
    "#a is the start value, will always be 1\n",
    "\n",
    "#will put all of this in function later\n",
    "\n",
    "#finding delta_x aka width of area\n",
    "n += 1\n",
    "delta_x = (100-1)/n\n",
    "\n",
    "#finding midpoint, needs p1 and p2\n",
    "\n",
    "p1\n",
    "midpoint = (p1 + p2)/2\n",
    "\n"
   ]
  },
  {
   "cell_type": "code",
   "execution_count": null,
   "metadata": {
    "collapsed": false
   },
   "outputs": [],
   "source": [
    "def stefboltz (a, b, n):\n",
    "    w = (b-a)/n #n is arbitrary\n",
    "    print w\n",
    "    mdpoints = []\n",
    "    y = a\n",
    "    while y < b:\n",
    "        mdpoints.append((2.0*y+w)/2)\n",
    "        y += w\n",
    "    return mdpoints\n",
    "\n",
    "print stefboltz(1.0, 100.0, 198.0)"
   ]
  },
  {
   "cell_type": "code",
   "execution_count": 16,
   "metadata": {
    "collapsed": false
   },
   "outputs": [
    {
     "data": {
      "text/plain": [
       "6.427276905158204"
      ]
     },
     "execution_count": 16,
     "metadata": {},
     "output_type": "execute_result"
    }
   ],
   "source": [
    "import math \n",
    "\n",
    "def stefboltz (a, b, dy):\n",
    "    #finding deltax, which is n\n",
    "    n = (b-a)*dy\n",
    "    w = (b-a)/n #n is arbitrary\n",
    "    #print w\n",
    "    \n",
    "    #creating list of midpoints\n",
    "    mdpoints = []\n",
    "    y = a\n",
    "    while y < b:\n",
    "        mdpoints.append((2.0*y+w)/2) #wrong equation\n",
    "        y += w\n",
    "    #return mdpoints\n",
    "    \n",
    "    #finding area\n",
    "    #f_mdpoints = (y^3)/((e^y)-1)\n",
    "    #index +=0\n",
    "    #y = mdpoints[index]\n",
    "    #area = f_mdpoints*w\n",
    "    \n",
    "    f_mdpoints = 0.0\n",
    "    for y in mdpoints:\n",
    "        f_mdpoints += (y**3)/((math.exp(y))-1)\n",
    "        area = f_mdpoints*w\n",
    "    return area \n",
    "\n",
    "stefboltz (1.0, 100.0, 0.5)\n",
    "\n",
    "#as n increases, this function deviates from desired answer     \n",
    "    "
   ]
  },
  {
   "cell_type": "code",
   "execution_count": null,
   "metadata": {
    "collapsed": true
   },
   "outputs": [],
   "source": []
  }
 ],
 "metadata": {
  "kernelspec": {
   "display_name": "Python 2",
   "language": "python",
   "name": "python2"
  },
  "language_info": {
   "codemirror_mode": {
    "name": "ipython",
    "version": 2
   },
   "file_extension": ".py",
   "mimetype": "text/x-python",
   "name": "python",
   "nbconvert_exporter": "python",
   "pygments_lexer": "ipython2",
   "version": "2.7.9"
  }
 },
 "nbformat": 4,
 "nbformat_minor": 0
}
