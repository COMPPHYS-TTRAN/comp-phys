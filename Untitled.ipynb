{
 "cells": [
  {
   "cell_type": "code",
   "execution_count": null,
   "metadata": {
    "collapsed": true
   },
   "outputs": [],
   "source": [
    "#homework no. 1, using Riemann sums\n",
    "import math\n",
    "\n",
    "integral = (y^3)/((e^y)-1)\n",
    "#n is the number of rectangles/step value\n",
    "#n will become smaller as the value of integral becomes more accurate\n",
    "#b is the end value, will always be 100\n",
    "#a is the start value, will always be 1\n",
    "\n",
    "#will put all of this in function later\n",
    "\n",
    "#finding delta_x aka width of area\n",
    "n += 1\n",
    "delta_x = (100-1)/n\n",
    "\n",
    "#finding midpoint, needs p1 and p2\n",
    "\n",
    "p1\n",
    "midpoint = (p1 + p2)/2\n",
    "\n"
   ]
  },
  {
   "cell_type": "code",
   "execution_count": null,
   "metadata": {
    "collapsed": false
   },
   "outputs": [],
   "source": [
    "def stefboltz (a, b, n):\n",
    "    w = (b-a)/n #n is arbitrary\n",
    "    print w\n",
    "    mdpoints = []\n",
    "    y = a\n",
    "    while y < b:\n",
    "        mdpoints.append((2.0*y+w)/2)\n",
    "        y += w\n",
    "    return mdpoints\n",
    "\n",
    "print stefboltz(1.0, 100.0, 198.0)"
   ]
  },
  {
   "cell_type": "code",
   "execution_count": 46,
   "metadata": {
    "collapsed": false
   },
   "outputs": [
    {
     "name": "stdout",
     "output_type": "stream",
     "text": [
      "The integral evaluated to within specified accuracy  6.30489847528\n",
      "The correct answer is  6.49393940227\n",
      "The actual fractional error is:  18.9040926984\n"
     ]
    }
   ],
   "source": [
    "import math \n",
    "\n",
    "def stefboltz (a, b, dy):\n",
    "    #print 'running...' #how do I do this right after execution of program?\n",
    "    \n",
    "    answer = ((math.pi)**4.)/15.\n",
    "    \n",
    "    #finding deltax, which is n\n",
    "    n = (b-a)*(1./dy)\n",
    "    w = (b-a)/n #n is arbitrary\n",
    "    #print w\n",
    "    \n",
    "    #creating list of midpoints\n",
    "    mdpoints = []\n",
    "    y = a\n",
    "    while y < b:\n",
    "        mdpoints.append((2.0*y+w)/2) #wrong equation\n",
    "        y += w\n",
    "    #return mdpoints\n",
    "    \n",
    "    #finding area\n",
    "    #f_mdpoints = (y^3)/((e^y)-1)\n",
    "    #index +=0\n",
    "    #y = mdpoints[index]\n",
    "    #area = f_mdpoints*w\n",
    "    \n",
    "    f_mdpoints = 0.0\n",
    "    for y in mdpoints:\n",
    "        f_mdpoints += (y**3)/((math.exp(y))-1)\n",
    "        area = f_mdpoints*w\n",
    "        #while area < 6 :\n",
    "            #print 'running...'\n",
    "        #while 100 > area > 1: #how do I do this during running program?\n",
    "            #print 'number of steps: ', dy*100\n",
    "            #print 'dy = ', 100, ',', 'integral = ' #integral at this stage\n",
    "            #print 'frac_diff = ', #first time should read N/A\n",
    "            \n",
    "    frac_error = (answer - area)*100\n",
    "    \n",
    "    \n",
    "    #def frac_diff:\n",
    "        \n",
    "    #return area\n",
    "    #while area \n",
    "\n",
    "    print 'The integral evaluated to within specified accuracy ', area\n",
    "    #print 'The upper limit of its fractional error is estimated to be: ' #need to call frac_diff\n",
    "    print 'The correct answer is ', answer\n",
    "    print 'The actual fractional error is: ', frac_error\n",
    "\n",
    "stefboltz (1.0, 100.0, 1.) #accuracy maxes out 2.\n",
    "\n",
    "#as n increases, this function deviates from desired answer     \n",
    "    "
   ]
  },
  {
   "cell_type": "code",
   "execution_count": null,
   "metadata": {
    "collapsed": true
   },
   "outputs": [],
   "source": []
  },
  {
   "cell_type": "code",
   "execution_count": null,
   "metadata": {
    "collapsed": true
   },
   "outputs": [],
   "source": []
  }
 ],
 "metadata": {
  "kernelspec": {
   "display_name": "Python 2",
   "language": "python",
   "name": "python2"
  },
  "language_info": {
   "codemirror_mode": {
    "name": "ipython",
    "version": 2
   },
   "file_extension": ".py",
   "mimetype": "text/x-python",
   "name": "python",
   "nbconvert_exporter": "python",
   "pygments_lexer": "ipython2",
   "version": "2.7.9"
  }
 },
 "nbformat": 4,
 "nbformat_minor": 0
}
