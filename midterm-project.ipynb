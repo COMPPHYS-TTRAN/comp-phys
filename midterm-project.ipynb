{
 "cells": [
  {
   "cell_type": "raw",
   "metadata": {},
   "source": [
    "MODEL A DOLPHIN POPULATION OVER 150 YEARS\n",
    "average life span = 35 years, w/ standard deviation sigma = 5 years\n",
    "age of bang bang = 8 years\n",
    "two dolphins smang every five years and a baby is born = 1 calf/ 5 years (gestation length = 0)\n",
    "no incest, no gay dolphins (ADOPTIONS FOR GAY DOLPHINS)\n",
    "male dolphins = 50% population, female dolphins = 50% population\n",
    "no same name for dolphins, DEAD OR ALIVEEEEEEEEEEE (ENTER JON BONJOVI)\n",
    "start population = 4 dolphins\n",
    "start female = 2 dolphins\n",
    "start male = 2 dolphins\n",
    "\n",
    "*****SHOULD YOU ONLY GIT PUSH ONCE AND GIT ADD ONCE?*******"
   ]
  },
  {
   "cell_type": "code",
   "execution_count": null,
   "metadata": {
    "collapsed": true
   },
   "outputs": [],
   "source": [
    "#part A \n",
    "\n",
    "#evolve dolphin population 10 times\n",
    "#find average number of living dolphins (1)\n",
    "#find standard deviation for each of the 150 years (2)\n",
    "#do print statements modeled on assignment sheet\n",
    "#report total living whales at year 100 (is there growth or decline?)\n",
    "#report birth from the very beginning uuuuuu\n",
    "\n",
    "import numpy as np\n",
    "\n",
    "main function\n",
    "\n",
    "#count male population\n",
    "#count female population\n",
    "\n",
    "#NEED FUNCTION THAT KEEPS COUNT OF INDIVIDUAL DOLPHIN'S AGE\n",
    "#create list of dolphins...?\n",
    "#how do you generate dolphin names everytime....?\n",
    "\n",
    "a = existing dolphins (will need to add to it)\n",
    "b = new dolphins (will need to add to it)\n",
    "\n",
    "while trial <= 10:\n",
    "       trial += 1\n",
    "        #also add command to continue trials \n",
    "\n",
    "def avg(a, b):\n",
    "    a = existing dolphins\n",
    "    b = new dolphins\n",
    "    avg = (a + b)/2\n",
    "    return avg\n",
    "        \n",
    "def stan_dev(a, b)\n",
    "    vari = (a**2 - b**2)/2\n",
    "    stan_dev = np.sqrt(vari)\n",
    "    return stan_dev\n",
    "    \n",
    "print ('Trial No. {:numberf}', num_trial)\n",
    "print ('Entering year {:numberf} with {:numberf} with {:numberf} breeding'.format(year, num_dolphins, num_dolphins_bang)\n",
    "    \n",
    "\n",
    "while trial <= 10:\n",
    "       trial += 1\n",
    "       #also add command to continue trials    \n",
    "\n",
    "count_births = 0 #counting while loop from beginning\n",
    "while years == 5:\n",
    "    dolphins_born = dolphin_boy + dolphin_girl  \n",
    "    count_births += births\n",
    "    #needs to 50/50 randomize birth of boy or girl dolphin\n",
    "\n",
    "       \n",
    "count_dolphins = 4 #initial amount of whales \n",
    "whales_total = whales_total + dolphins_born - dolphins_die\n",
    "       \n",
    "\n",
    "\n"
   ]
  },
  {
   "cell_type": "code",
   "execution_count": 24,
   "metadata": {
    "collapsed": false
   },
   "outputs": [
    {
     "name": "stdout",
     "output_type": "stream",
     "text": [
      "A girl dolphin named terry is born!!!!!! \n",
      "oops\n",
      "i did it again\n"
     ]
    },
    {
     "data": {
      "text/plain": [
       "'si'"
      ]
     },
     "execution_count": 24,
     "metadata": {},
     "output_type": "execute_result"
    }
   ],
   "source": [
    "import random\n",
    "import pdb\n",
    "\n",
    "class Dolphins: #also answer: can two dolphins procreate or no?\n",
    "    \n",
    "    def __init__(self, name, sex, mother, father, age = 0, year = 0):\n",
    "        self.name = name\n",
    "        self.sex = sex\n",
    "        self.age = age #key word variable for age b/c it changes\n",
    "                        #key word variable for year b/c same reason\n",
    "        self.mother = mother\n",
    "        self.father = father\n",
    "        #self.death = final_age#final age here\n",
    "                    #still sketch about this line\n",
    "                    #just a place holder\n",
    "        self.year = year\n",
    "        \n",
    "        print 'A ' + str(self.sex) + ' dolphin named ' + str(self.name) + ' is born!!!!!! ' \n",
    "\n",
    "    def __str__(self):\n",
    "        return 'A ' + str(self.sex) + ' dolphin named ' + str(self.name) + ' is born!!!!!! ' \n",
    "    \n",
    "    def mean(self):\n",
    "        print 'oops'\n",
    "    \n",
    "    def standev(self):\n",
    "        print 'i did it again'\n",
    "    \n",
    "    def age(self):\n",
    "        #do you need this function if each_year increments it...?\n",
    "        #pdb.set_trace()\n",
    "        return self.age\n",
    "    \n",
    "    def each_year(self):\n",
    "        self.year += 1\n",
    "        self.age += 1\n",
    "        \n",
    "        \n",
    "d = Dolphins('terry', 'girl', 'laura', 'si')  \n",
    "d.mean()\n",
    "d.standev()\n",
    "d.age\n",
    "d.mother\n",
    "d.father\n"
   ]
  },
  {
   "cell_type": "code",
   "execution_count": null,
   "metadata": {
    "collapsed": true
   },
   "outputs": [],
   "source": []
  }
 ],
 "metadata": {
  "kernelspec": {
   "display_name": "Python 2",
   "language": "python",
   "name": "python2"
  },
  "language_info": {
   "codemirror_mode": {
    "name": "ipython",
    "version": 2
   },
   "file_extension": ".py",
   "mimetype": "text/x-python",
   "name": "python",
   "nbconvert_exporter": "python",
   "pygments_lexer": "ipython2",
   "version": "2.7.9"
  }
 },
 "nbformat": 4,
 "nbformat_minor": 0
}
