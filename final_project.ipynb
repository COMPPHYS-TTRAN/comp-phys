{
 "cells": [
  {
   "cell_type": "code",
   "execution_count": 6,
   "metadata": {
    "collapsed": false
   },
   "outputs": [],
   "source": [
    "#imports \n",
    "from __future__ import print_function, division\n",
    "import numpy as np\n",
    "import matplotlib.pyplot as plt\n",
    "from scipy import stats\n",
    "import seaborn as sns; sns.set()\n",
    "from sklearn import decomposition\n",
    "from sklearn.decomposition import PCA\n",
    "from sklearn.datasets import load_digits\n",
    "from sklearn import svm"
   ]
  },
  {
   "cell_type": "code",
   "execution_count": 7,
   "metadata": {
    "collapsed": true
   },
   "outputs": [],
   "source": [
    "'''It should interpolate the input image, im, onto a grid that is dim1 ⨉ dim2, referring to the\n",
    "number of pixels for the horizontal and vertical directions, respectively. If plot_new_im\n",
    "is True, display the interpolated image using plt.imshow(), with the keyword argument\n",
    "interpolation set to “nearest”. This way, the image will show each pixel as is,\n",
    "without interpolation, making clear useful diagnostic information, such as the number of\n",
    "pixels in the image and which pixels have high (or low) values. Also, as the default, it should\n",
    "show a grid. But if the flag grid_off is True then turn off plt.grid. The function\n",
    "should return the interpolated, flattened image array\n",
    "'''\n",
    "\n",
    "def interpol_im(im, dim1 = 8, dim2 = 8, plot_new_im = False, cmap = 'binary', axis_off = False):\n",
    "    \n",
    "    x = np.arange(im.shape[1])\n",
    "    y = np.arange(im.shape[0])\n",
    "    f2d = interp2d(x, y, im)\n",
    "    x_new = np.linspace(0, im.shape[1], dim1)\n",
    "    y_new = np.linspace(0, im.shape[0], dim2)\n",
    "\n",
    "    im_new = f2d(x_new, y_new)\n",
    "    im_flat = im_new.flatten()    \n",
    "\n",
    "    if plot_new_im:\n",
    "        plt.imshow(im_new, cmap = 'binary', interpolation = 'nearest')\n",
    "        plt.grid('off')\n",
    "        plt.show()\n",
    "\n",
    "    return im_new, im_flat"
   ]
  },
  {
   "cell_type": "code",
   "execution_count": 8,
   "metadata": {
    "collapsed": true
   },
   "outputs": [],
   "source": [
    "'''It returns md_pca and X_proj, where X_proj contains\n",
    "the projections of the data array X in the PCA space. \n",
    "'''\n",
    "\n",
    "def pca_X(X, n_comp = 10):\n",
    "    \n",
    "    md_pca = PCA(n_comp)  \n",
    "    Xproj = pca.fit_transform(X)\n",
    "    \n",
    "    return md_pca, Xproj"
   ]
  },
  {
   "cell_type": "code",
   "execution_count": 9,
   "metadata": {
    "collapsed": true
   },
   "outputs": [],
   "source": [
    "'''It returns the md_clf. The meanings of gamma and C were explained in class. For our\n",
    "purposes, you may leave gamma and C at their default values for both Parts I and II. \n",
    "'''\n",
    "\n",
    "def svm_train(gamma = 0.001, C = 100):\n",
    "    \n",
    "    md_clf = svm.SVC(gamma, C)\n",
    "    \n",
    "    return md_clf\n",
    "    "
   ]
  },
  {
   "cell_type": "code",
   "execution_count": 10,
   "metadata": {
    "collapsed": true
   },
   "outputs": [],
   "source": [
    "'''This function will be used in Part II and it\n",
    "- loads the image contained in imfile;\n",
    "- interpolates the image by calling interpol_im();\n",
    "- projects the interpolated, flattened image array onto the PCA space by using md_pca;\n",
    "- makes a prediction as to the identity of the image, by using md_clf; and finally,\n",
    "- returns the prediction.\n",
    "'''\n",
    "\n",
    "def pca_svm_pred(imfile, md_pca, md_clf, dim1 = 45, dim2 = 60):\n",
    "    \n",
    "    im = mpimg.imread(imfile) #loads the image contained in imfile\n",
    "    im_new, im_flat = interpol_im(im) #interpolates the image by calling interpol_im():\n",
    "    md_pca, Xproj = pca_X(X) # projects interpolated, flattened image array onto PCA space\n",
    "    md_clf = svm_train() #calls md_clf\n",
    "    md_clf.fit(Xproj, y) #applies boundaries\n",
    "    pred = md_clf.predict(Xproj) #makes a prediction using md_clf\n",
    "    \n",
    "    return pred "
   ]
  },
  {
   "cell_type": "code",
   "execution_count": null,
   "metadata": {
    "collapsed": true
   },
   "outputs": [],
   "source": [
    "'''This function will be used in Part I. It uses one of the images in the sklearn digit data set, X,\n",
    "X[ind] (the default for ind is 0, but it can be anything) to rescale the pixel values of the\n",
    "image unseen, so that this image, when compared with any image in X[ind], has the\n",
    "same (or very similar) mean (around 5) and a similar pixel value range (roughly between 0\n",
    "and 15). \n",
    "'''\n",
    "\n",
    "def rescale_pixel(X, unseen, ind = 0):\n",
    "\n",
    "    feature_range = (min(X[ind]), max(X[ind]))\n",
    "    scale = pre.MinMaxScaler(feature_range)\n",
    "    scaling_unseen = scaling.fit_transform(X[ind])\n",
    "    \n",
    "    return scaling_unseen\n",
    "    "
   ]
  },
  {
   "cell_type": "code",
   "execution_count": null,
   "metadata": {
    "collapsed": true
   },
   "outputs": [],
   "source": [
    "#part 1\n",
    "\n",
    "import pattern_recog_func.py\n",
    "\n"
   ]
  }
 ],
 "metadata": {
  "kernelspec": {
   "display_name": "Python 2",
   "language": "python",
   "name": "python2"
  },
  "language_info": {
   "codemirror_mode": {
    "name": "ipython",
    "version": 2
   },
   "file_extension": ".py",
   "mimetype": "text/x-python",
   "name": "python",
   "nbconvert_exporter": "python",
   "pygments_lexer": "ipython2",
   "version": "2.7.9"
  }
 },
 "nbformat": 4,
 "nbformat_minor": 0
}
