{
 "cells": [
  {
   "cell_type": "markdown",
   "metadata": {},
   "source": [
    "# Topics\n",
    "\n",
    "## 1. Random Numbers and Histogram\n",
    "## 2. Monte Carlo"
   ]
  },
  {
   "cell_type": "markdown",
   "metadata": {
    "collapsed": false
   },
   "source": [
    "## random numbers and histogram\n",
    "### Distributions\n",
    "### 1. Uniform\n",
    "### 2. Gaussian\n",
    "### 3. Poisson"
   ]
  },
  {
   "cell_type": "markdown",
   "metadata": {},
   "source": [
    "## Random Number with Different Distribution and Plotting the Histogram"
   ]
  },
  {
   "cell_type": "code",
   "execution_count": 7,
   "metadata": {
    "collapsed": false
   },
   "outputs": [
    {
     "name": "stdout",
     "output_type": "stream",
     "text": [
      "n (normalized height, or probability density): [  6.42966744e-08   3.21483372e-08   2.89335035e-07   5.14373395e-07\n",
      "   1.22163681e-06   3.85780047e-06   8.03708430e-06   1.77458821e-05\n",
      "   4.11498716e-05   8.56431703e-05   1.70386187e-04   3.18879357e-04\n",
      "   5.79505927e-04   9.93672955e-04   1.65840412e-03   2.65246286e-03\n",
      "   4.02513256e-03   5.91577627e-03   8.27167072e-03   1.11221352e-02\n",
      "   1.42758871e-02   1.76097661e-02   2.08149553e-02   2.35117186e-02\n",
      "   2.54556964e-02   2.64463795e-02   2.63497738e-02   2.50713630e-02\n",
      "   2.29337236e-02   2.00251028e-02   1.68081151e-02   1.35247090e-02\n",
      "   1.03702499e-02   7.63407275e-03   5.38860784e-03   3.63658776e-03\n",
      "   2.36261345e-03   1.46988627e-03   8.71380680e-04   5.04375262e-04\n",
      "   2.73453756e-04   1.43478029e-04   7.19158303e-05   3.60704343e-05\n",
      "   1.51097185e-05   6.62255747e-06   3.31127873e-06   1.15734014e-06\n",
      "   4.17928384e-07   2.89335035e-07] 50\n",
      "bins (locations of bin edges): [  19.50092057   22.61150135   25.72208214   28.83266292   31.94324371\n",
      "   35.05382449   38.16440528   41.27498606   44.38556685   47.49614763\n",
      "   50.60672842   53.7173092    56.82788999   59.93847077   63.04905156\n",
      "   66.15963235   69.27021313   72.38079392   75.4913747    78.60195549\n",
      "   81.71253627   84.82311706   87.93369784   91.04427863   94.15485941\n",
      "   97.2654402   100.37602098  103.48660177  106.59718255  109.70776334\n",
      "  112.81834412  115.92892491  119.03950569  122.15008648  125.26066726\n",
      "  128.37124805  131.48182883  134.59240962  137.70299041  140.81357119\n",
      "  143.92415198  147.03473276  150.14531355  153.25589433  156.36647512\n",
      "  159.4770559   162.58763669  165.69821747  168.80879826  171.91937904\n",
      "  175.02995983] 51\n"
     ]
    },
    {
     "data": {
      "image/png": "[encoded data removed]",
      "text/plain": [
       "<matplotlib.figure.Figure at 0x10ad69f50>"
      ]
     },
     "metadata": {},
     "output_type": "display_data"
    }
   ],
   "source": [
    "%matplotlib inline\n",
    "'''Histogram Plot'''\n",
    "\n",
    "import numpy as np\n",
    "import matplotlib.pyplot as plt\n",
    "\n",
    "avg = 100.\n",
    "sig = 15.\n",
    "\n",
    "num_pts = 10000000\n",
    "\n",
    "x = np.random.randn(num_pts)*sig + avg\n",
    "fig = plt.figure()\n",
    "ax = fig.add_subplot(111)\n",
    "\n",
    "# the histogram of the data\n",
    "\n",
    "Nbins = 50\n",
    "# normed=1: the total area adds up to 1; # alpha: level of tranparency.\n",
    "n, bins, patches = ax.hist(x, Nbins, normed=1, facecolor='green', alpha=.5)\n",
    "print 'n (normalized height, or probability density):', n, len(n)\n",
    "print 'bins (locations of bin edges):', bins, len(bins)\n",
    "\n",
    "# hist uses np.histogram under the hood to create 'n' and 'bins'.\n",
    "# np.histogram returns the bin edges, so there will be Nbin probability\n",
    "# density values (n), Nbin+1 bin edges (bins), and finally, Nbin patches.\n",
    "\n",
    "ax.set_xlabel('IQ')\n",
    "ax.set_ylabel('Probability')\n",
    "# The is Latex, a typsetting \"program\".\n",
    "ax.set_title(r'$\\mathrm{Histogram\\ of\\ IQ:}\\ \\mu=100,\\ \\sigma=15$')\n",
    "# Pay attention to how the x and y axis limits are set.\n",
    "ax.set_xlim(0, 200)\n",
    "ax.set_ylim(0, 0.03)\n",
    "#ax.grid(True)\n",
    "\n",
    "plt.show()\n"
   ]
  },
  {
   "cell_type": "markdown",
   "metadata": {},
   "source": [
    "## What percentage of the population have IQ 1-sigma, 2-sigma, and 3-sigma above the mean?\n",
    "## Verify your number using the Gaussian random variables generated above.\n",
    "## What's the probability of finding someone with an IQ of 180?  How many such people are there in the US?"
   ]
  },
  {
   "cell_type": "code",
   "execution_count": 5,
   "metadata": {
    "collapsed": false
   },
   "outputs": [
    {
     "name": "stdout",
     "output_type": "stream",
     "text": [
      "[False False False False False  True  True  True  True  True]\n",
      "(array([5, 6, 7, 8, 9]),)\n",
      "[ 18.  21.  24.  27.  30.]\n",
      "[ 18.  21.  24.  27.  30.]\n"
     ]
    }
   ],
   "source": [
    "import numpy as np\n",
    "\n",
    "x = np.linspace(1, 10, 10)*3\n",
    "ind1 = x > 15 #gives you a list of booleans\n",
    "ind2 = np.where(x > 15) #gives you an array of indices\n",
    "\n",
    "#np.where gives you the indices where the big values of x happen\n",
    "\n",
    "print ind1\n",
    "print ind2\n",
    "print x[ind1]\n",
    "print x[ind2]"
   ]
  },
  {
   "cell_type": "code",
   "execution_count": null,
   "metadata": {
    "collapsed": true
   },
   "outputs": [],
   "source": [
    "#probability of someone with IQ 180\n",
    "\n",
    "import numpy as np\n",
    "IQ = "
   ]
  },
  {
   "cell_type": "markdown",
   "metadata": {},
   "source": [
    "## Plot a histogram for 10000 number generated with np.random.rand()"
   ]
  },
  {
   "cell_type": "code",
   "execution_count": 22,
   "metadata": {
    "collapsed": false
   },
   "outputs": [
    {
     "data": {
      "image/png": "[encoded data removed]",
      "text/plain": [
       "<matplotlib.figure.Figure at 0x11627d950>"
      ]
     },
     "metadata": {},
     "output_type": "display_data"
    }
   ],
   "source": [
    "x = np.random.rand(10000)\n",
    "#print x\n",
    "fig = plt.figure()\n",
    "ax = fig.add_subplot(111)\n",
    "\n",
    "# the histogram of the data\n",
    "\n",
    "Nbins = 50\n",
    "# normed=1: the total area adds up to 1; # alpha: level of tranparency.\n",
    "n, bins, patches = ax.hist(x, Nbins, normed=1, facecolor='green', alpha=.5)\n",
    "\n",
    "# Pay attention to how the x and y axis limits are set.\n",
    "ax.set_xlim(0, 1)\n",
    "ax.set_ylim(0, 2)\n",
    "#ax.grid(True)\n",
    "\n",
    "plt.show()"
   ]
  },
  {
   "cell_type": "code",
   "execution_count": 28,
   "metadata": {
    "collapsed": false
   },
   "outputs": [
    {
     "data": {
      "image/png": "[encoded data removed]",
      "text/plain": [
       "<matplotlib.figure.Figure at 0x11660f050>"
      ]
     },
     "metadata": {},
     "output_type": "display_data"
    }
   ],
   "source": [
    "%matplotlib inline\n",
    "import numpy as np\n",
    "s = np.random.poisson(5, 100000)\n",
    "\n",
    "fig = plt.figure()\n",
    "a_s = fig.add_subplot(111)\n",
    "\n",
    "Nbins = 50\n",
    "# normed=1: the total area adds up to 1; # alpha: level of tranparency.\n",
    "n, bins, patches = ax.hist(s, Nbins, normed=1, facecolor='green', alpha=.5)\n",
    "\n",
    "# Pay attention to how the x and y axis limits are set.\n",
    "ax.set_xlim(0, .5)\n",
    "ax.set_ylim(0, 2)\n",
    "#ax.grid(True)\n",
    "\n",
    "plt.show()"
   ]
  },
  {
   "cell_type": "markdown",
   "metadata": {},
   "source": [
    "## Integration"
   ]
  },
  {
   "cell_type": "code",
   "execution_count": 37,
   "metadata": {
    "collapsed": false
   },
   "outputs": [
    {
     "name": "stdout",
     "output_type": "stream",
     "text": [
      "3.141798\n"
     ]
    }
   ],
   "source": [
    "x = np.random.rand(10000000)\n",
    "y = np.random.rand(10000000)\n",
    "\n",
    "ind1 = (x - 0.5)**2 + (y - 0.5)**2 < 0.25\n",
    "\n",
    "X1 = x[ind1]\n",
    "\n",
    "#print X1\n",
    "print (float(len(X1))/len(x))*4\n",
    "\n"
   ]
  },
  {
   "cell_type": "markdown",
   "metadata": {},
   "source": [
    "## Find the value of pi with MC"
   ]
  },
  {
   "cell_type": "markdown",
   "metadata": {
    "collapsed": false
   },
   "source": [
    "## End of wk8-2"
   ]
  },
  {
   "cell_type": "code",
   "execution_count": null,
   "metadata": {
    "collapsed": true
   },
   "outputs": [],
   "source": []
  }
 ],
 "metadata": {
  "kernelspec": {
   "display_name": "Python 2",
   "language": "python",
   "name": "python2"
  },
  "language_info": {
   "codemirror_mode": {
    "name": "ipython",
    "version": 2
   },
   "file_extension": ".py",
   "mimetype": "text/x-python",
   "name": "python",
   "nbconvert_exporter": "python",
   "pygments_lexer": "ipython2",
   "version": "2.7.9"
  }
 },
 "nbformat": 4,
 "nbformat_minor": 0
}
