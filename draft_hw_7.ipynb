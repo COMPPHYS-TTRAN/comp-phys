{
 "cells": [
  {
   "cell_type": "code",
   "execution_count": 17,
   "metadata": {
    "collapsed": false
   },
   "outputs": [],
   "source": [
    "%matplotlib inline\n",
    "'''\n",
    "extract_shape(im_file, blowup = 1., plot_img = False, \\\n",
    "plot_contour = False, plot_contour_pts = False)\n",
    "\n",
    "FD(x, y, plot_FD = False, y_lim = None)\n",
    "\n",
    "filt_FD(Z, n_keep, no_zeroth = True)\n",
    "\n",
    "get_FD_abs(x, y, order = 10, norm = True, no_zeroth = True)\n",
    "\n",
    "recover_shape(Z)\n",
    "\n",
    "size_norm(Z)\n",
    "'''\n",
    "\n",
    "import numpy as np\n",
    "import matplotlib.pyplot as plt\n",
    "import matplotlib.image as mpimg\n",
    "import argparse \n",
    "import pdb\n",
    "\n",
    "def extract_shape(im_file, blowup = 1., plot_img = False, plot_contour = False, plot_contour_pts = False):\n",
    "    \n",
    "    im = mpimg.imread(im_file)\n",
    "    # Take one of RGB(A) channels\n",
    "    if len(im.shape) > 2:\n",
    "        im = im[:, :, 0]\n",
    "    \n",
    "    if plot_img:\n",
    "        plt.figure()\n",
    "        plt.title('Original Shape')\n",
    "        plt.imshow(im, cmap = plt.cm.gray)\n",
    "\n",
    "    # Note: by convention, in this case, y values comes from the 0th index.\n",
    "    # Otherwise one has to transpose the image and the contour will appear sideways \n",
    "    x = np.arange(im.shape[1])*blowup  \n",
    "    y = np.arange(im.shape[0])*blowup\n",
    "    \n",
    "    # Have to flip y to get the orientation right, again just a peculiar convention we have to work around\n",
    "    # Note the [::] notation: a[3:20:2] means from the 3rd element to the 20th element, choose every 2nd element.\n",
    "    y = y[::-1]\n",
    "\n",
    "    # In case I want to shift x.\n",
    "    #x_shift = 200\n",
    "    #x += x_shift\n",
    "\n",
    "    X, Y = np.meshgrid(x, y)\n",
    "    \n",
    "    plt.figure()\n",
    "    plt.title('Contours')\n",
    "    # Note the dimensions of x and y may NOT the same, thus the necessity of the \n",
    "    # tranpose operation (an oddity, I admit...)\n",
    "    CS = plt.contour(X, Y, im, 1)\n",
    "    levels = CS.levels\n",
    "    print 'contour level', levels\n",
    "    if not plot_contour:\n",
    "        plt.close()\n",
    "\n",
    "    cs_paths = CS.collections[0].get_paths()\n",
    "\n",
    "    print 'number of contour path', len(cs_paths)\n",
    "\n",
    "    p = cs_paths[0]\n",
    "    v = p.vertices\n",
    "    x_arr = v[:,0]\n",
    "    y_arr = v[:,1]\n",
    "\n",
    "    if plot_contour_pts:\n",
    "        plt.figure()\n",
    "        plt.title(\"Verify the contour points are correct\")\n",
    "        plt.scatter(x_arr, y_arr)\n",
    "\n",
    "    return x_arr, y_arr\n",
    " \n",
    "'''#######################################################################'''\n",
    "\n",
    "def FD(x, y, plot_FD = False, y_lim = None):\n",
    "\n",
    "    N = len(x)\n",
    "    n = np.arange(N)\n",
    "    \n",
    "    z = x + y*1j\n",
    "\n",
    "    Z = np.fft.fft(z)\n",
    "\n",
    "    if plot_FD:\n",
    "        plt.figure()\n",
    "        plt.title('FD real and imag')\n",
    "        plt.plot(Z.real, 'b-')\n",
    "        plt.plot(Z.imag, 'g-')\n",
    "        if y_lim != None:\n",
    "            plt.ylim([-y_lim, y_lim])\n",
    "\n",
    "    return Z\n",
    "\n",
    "'''#######################################################################'''\n",
    "\n",
    "def filt_FD(Z, n_keep, no_zeroth = True):\n",
    "    N = len(Z)\n",
    "    n = np.arange(len(Z))\n",
    "    print 'Nyquist index', N/2\n",
    "    # in case I want the centroid position.\n",
    "    filt0 = n > 0 if no_zeroth else 1\n",
    "    filt1 = filt0*(n <= n_keep)\n",
    "    \n",
    "    filt2 = (n > ((N-1) - n_keep))\n",
    "    print 'Number of components from both sides:', filt1.sum(), filt2.sum()\n",
    "    filt = filt1 + filt2\n",
    "    #print Z.real[N/2]\n",
    "    return Z*filt\n",
    "\n",
    "'''#######################################################################'''\n",
    "\n",
    "def get_FD_abs(x, y, order = 10, norm = True, no_zeroth = True):\n",
    "    '''Finds the Fourier Descriptors and the recovered x and y for a shape.'''\n",
    "    Z = FD(x, y)\n",
    "    print 'len(Z)', len(Z)\n",
    "    \n",
    "    Z_filt = filt_FD(Z, order, no_zeroth=no_zeroth)\n",
    "    if norm:\n",
    "        Z_filt = size_norm(Z_filt)\n",
    "    print 'len(Z_filt)', len(Z_filt)\n",
    "    x_rec, y_rec = recover_shape(Z_filt)\n",
    "\n",
    "    # throw away zero terms\n",
    "    fd_mag = np.abs(Z_filt[Z_filt != 0])\n",
    "#     fd_mag = fd_mag[fd_mag > 0]\n",
    "    \n",
    "    return fd_mag, x_rec, y_rec\n",
    "    \n",
    "'''#######################################################################'''\n",
    "\n",
    "def recover_shape(Z):\n",
    "    z_rec = np.fft.ifft(Z)\n",
    "\n",
    "    x_rec = z_rec.real\n",
    "    y_rec = z_rec.imag\n",
    "    \n",
    "    return x_rec, y_rec\n",
    "\n",
    "'''#######################################################################'''\n",
    "\n",
    "def size_norm(Z):\n",
    "    return Z/np.sqrt( np.abs(Z[1])*np.abs(Z[-1]) )\n",
    "\n",
    "# parser = argparse.ArgumentParser(description = 'Keep this many terms. '\n",
    "# parser.add_argument('order', metavar='O', type=int, nargs='+',help='an integer for order')\n",
    "# args = parser.parse_args('-order', '10')\n",
    "                                 \n",
    "#'''#######################################################################'''\n",
    "\n"
   ]
  },
  {
   "cell_type": "code",
   "execution_count": 28,
   "metadata": {
    "collapsed": false
   },
   "outputs": [
    {
     "name": "stdout",
     "output_type": "stream",
     "text": [
      "contour level [ 0.5]\n",
      "number of contour path 1\n",
      "Nyquist index 218\n",
      "Number of components from both sides: 10 10\n",
      "len(Z) 437\n",
      "Nyquist index 218\n",
      "Number of components from both sides: 11 10\n",
      "len(Z_filt) 437\n"
     ]
    },
    {
     "data": {
      "image/png": "[encoded data removed]",
      "text/plain": [
       "<matplotlib.figure.Figure at 0x10f83ee50>"
      ]
     },
     "metadata": {},
     "output_type": "display_data"
    },
    {
     "data": {
      "image/png": "[encoded data removed]",
      "text/plain": [
       "<matplotlib.figure.Figure at 0x10edd53d0>"
      ]
     },
     "metadata": {},
     "output_type": "display_data"
    },
    {
     "data": {
      "image/png": "[encoded data removed]",
      "text/plain": [
       "<matplotlib.figure.Figure at 0x10d540a10>"
      ]
     },
     "metadata": {},
     "output_type": "display_data"
    },
    {
     "data": {
      "image/png": "[encoded data removed]",
      "text/plain": [
       "<matplotlib.figure.Figure at 0x10f80c1d0>"
      ]
     },
     "metadata": {},
     "output_type": "display_data"
    }
   ],
   "source": [
    "x1, y1 = extract_shape('number1.png', blowup = 1., plot_img = False, plot_contour = False, plot_contour_pts = False)\n",
    "Z = FD(x1, y1, plot_FD = False, y_lim = None)\n",
    "Zfilt = filt_FD(Z, 10, no_zeroth = True) #N_KEEP LIST HERE AS 10 IS THE ARGPARSE ORDER\n",
    "fd_mag, x1_rec, y1_rec = get_FD_abs(x1, y1, order = 10, norm = False, no_zeroth = False)\n",
    "x1_rec, y1_rec = recover_shape(Z)\n",
    "size_norm = size_norm(Z)\n"
   ]
  },
  {
   "cell_type": "code",
   "execution_count": null,
   "metadata": {
    "collapsed": true
   },
   "outputs": [],
   "source": []
  }
 ],
 "metadata": {
  "kernelspec": {
   "display_name": "Python 2",
   "language": "python",
   "name": "python2"
  },
  "language_info": {
   "codemirror_mode": {
    "name": "ipython",
    "version": 2
   },
   "file_extension": ".py",
   "mimetype": "text/x-python",
   "name": "python",
   "nbconvert_exporter": "python",
   "pygments_lexer": "ipython2",
   "version": "2.7.9"
  }
 },
 "nbformat": 4,
 "nbformat_minor": 0
}
