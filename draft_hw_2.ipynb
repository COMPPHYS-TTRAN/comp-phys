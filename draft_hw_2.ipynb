{
 "cells": [
  {
   "cell_type": "code",
   "execution_count": 80,
   "metadata": {
    "collapsed": false
   },
   "outputs": [
    {
     "name": "stdout",
     "output_type": "stream",
     "text": [
      "Ranked by Distance\n",
      "[    ['Alpha Centauri A', 4.3],\n",
      "     ['Alpha Centauri B', 4.3],\n",
      "     ['Alpha centauri C', 4.2],\n",
      "     [\"Barnard's Star\", 6.0],\n",
      "     ['Wolf 359', 7.7],\n",
      "     ['Bd +36 degrees 2147', 8.2],\n",
      "     ['Luyten 726-8 A', 8.4],\n",
      "     ['Luyten 726-8 B', 8.4],\n",
      "     ['Sirius A', 8.6],\n",
      "     ['Sirius B', 8.6],\n",
      "     ['Ross 154', 9.4]]\n",
      "Ranked by Apparent Brightness\n",
      "[    ['Alpha Centauri A', 0.26],\n",
      "     ['Alpha Centauri B', 0.077],\n",
      "     ['Alpha centauri C', 1e-06],\n",
      "     [\"Barnard's Star\", 4e-05],\n",
      "     ['Wolf 359', 1e-06],\n",
      "     ['Bd +36 degrees 2147', 0.0003],\n",
      "     ['Luyten 726-8 A', 3e-07],\n",
      "     ['Luyten 726-8 B', 2e-07],\n",
      "     ['Sirius A', 1.0],\n",
      "     ['Sirius B', 0.001],\n",
      "     ['Ross 154', 2e-05]]\n",
      "Ranked by Absolute Brightness\n",
      "[    ['Alpha Centauri A', 1.56],\n",
      "     ['Alpha Centauri B', 0.45],\n",
      "     ['Alpha centauri C', 6e-06],\n",
      "     [\"Barnard's Star\", 0.0005],\n",
      "     ['Wolf 359', 2e-05],\n",
      "     ['Bd +36 degrees 2147', 0.006],\n",
      "     ['Luyten 726-8 A', 6e-06],\n",
      "     ['Luyten 726-8 B', 4e-06],\n",
      "     ['Sirius A', 23.6],\n",
      "     ['Sirius B', 0.003],\n",
      "     ['Ross 154', 0.0005]]\n"
     ]
    }
   ],
   "source": [
    "#'''\n",
    "\n",
    "#>>> doc_test_list = [ (1, 2, 3), (1, 2, 3), (1, 2, 3)]\n",
    "#>>>[[row[i] for row in doc_test_list] for i in range(3)]\n",
    "#[[1, 1, 1], [2, 2, 2], [3, 3, 3]]\n",
    "\n",
    "#'''\n",
    "\n",
    "import pprint\n",
    "\n",
    "data = [\n",
    "    ('Alpha Centauri A', 4.3, 0.26, 1.56), #element 1 in data \n",
    "    ('Alpha Centauri B', 4.3, 0.077, 0.45), #element 2 in data\n",
    "    ('Alpha centauri C', 4.2, 0.000001, 0.000006), #element 3 in data\n",
    "    (\"Barnard's Star\", 6.0, 0.00004, 0.0005), #element 4 in data\n",
    "    ('Wolf 359', 7.7, 0.000001, 0.00002), #element 5 in data\n",
    "    ('Bd +36 degrees 2147', 8.2,  0.0003, 0.006), #element 6 in data\n",
    "    ('Luyten 726-8 A', 8.4, 0.0000003, 0.000006), #element 7 in data\n",
    "    ('Luyten 726-8 B', 8.4, 0.0000002, 0.000004), #element 8 in data\n",
    "    ('Sirius A', 8.6, 1.00, 23.6), #element 9 in data\n",
    "    ('Sirius B', 8.6, 0.001, 0.003), #elemenet 10 in data\n",
    "    ('Ross 154', 9.4, 0.00002, 0.0005), #element 11 in data\n",
    "]\n",
    "\n",
    "data_edit = [[row[i] for row in data] for i in range(4)]\n",
    "\n",
    "star_name = data_edit[0]\n",
    "distance = data_edit[1]\n",
    "apparent_brightness = data_edit[2]\n",
    "absolute_brightness = data_edit[3]\n",
    "pp = pprint.PrettyPrinter(indent = 5)\n",
    "\n",
    "print('Ranked by Distance')\n",
    "#for n in range(11):\n",
    "#    print star_name[n], distance[n]\n",
    "ranked_by_distance = [[star_name[x], distance[x]] for x in range(11)] \n",
    "pp.pprint(ranked_by_distance)\n",
    "\n",
    "\n",
    "print('Ranked by Apparent Brightness')\n",
    "#for n in range(11):\n",
    "#    print star_name[n], apparent_brightness[n]\n",
    "ranked_by_apparent_brightness = [[star_name[y], apparent_brightness[y]] for y in range(11)] \n",
    "pp.pprint(ranked_by_apparent_brightness) \n",
    "\n",
    "print('Ranked by Absolute Brightness')\n",
    "#for n in range(11):\n",
    "#    print star_name[n], absolute_brightness[n]\n",
    "ranked_by_absolute_brightness = [[star_name[z], absolute_brightness[z]] for z in range(11)] \n",
    "pp.pprint(ranked_by_absolute_brightness)\n",
    "\n",
    "#if __name__ == \"__main__\":\n",
    "#    import doctest\n",
    "#    doctest.testmod()"
   ]
  },
  {
   "cell_type": "code",
   "execution_count": 77,
   "metadata": {
    "collapsed": false
   },
   "outputs": [
    {
     "data": {
      "text/plain": [
       "[[1, 1, 1], [2, 2, 2], [3, 3, 3]]"
      ]
     },
     "execution_count": 77,
     "metadata": {},
     "output_type": "execute_result"
    }
   ],
   "source": [
    "doc_test_list = [ (1, 2, 3), (1, 2, 3), (1, 2, 3)]\n",
    "[[row[i] for row in doc_test_list] for i in range(3)]"
   ]
  },
  {
   "cell_type": "code",
   "execution_count": 92,
   "metadata": {
    "collapsed": false
   },
   "outputs": [
    {
     "data": {
      "text/plain": [
       "2"
      ]
     },
     "execution_count": 92,
     "metadata": {},
     "output_type": "execute_result"
    }
   ],
   "source": [
    "#gamma function time \n",
    "import math\n",
    "from math import factorial \n",
    "\n",
    "def x_int(t): \n",
    "    gamma = math.factorial(t-1)\n",
    "    return gamma\n",
    "\n",
    "def x_other(t):\n",
    "    start = 0\n",
    "    stop = 1000\n",
    "    #dx (step) = anything you want so that it's accurate\n",
    "    \n",
    "    \n",
    "    return gamma\n",
    "    \n",
    "    #frac_diff"
   ]
  },
  {
   "cell_type": "code",
   "execution_count": null,
   "metadata": {
    "collapsed": true
   },
   "outputs": [],
   "source": []
  }
 ],
 "metadata": {
  "kernelspec": {
   "display_name": "Python 2",
   "language": "python",
   "name": "python2"
  },
  "language_info": {
   "codemirror_mode": {
    "name": "ipython",
    "version": 2
   },
   "file_extension": ".py",
   "mimetype": "text/x-python",
   "name": "python",
   "nbconvert_exporter": "python",
   "pygments_lexer": "ipython2",
   "version": "2.7.9"
  }
 },
 "nbformat": 4,
 "nbformat_minor": 0
}
