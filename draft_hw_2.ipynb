{
 "cells": [
  {
   "cell_type": "code",
   "execution_count": 71,
   "metadata": {
    "collapsed": false
   },
   "outputs": [
    {
     "name": "stdout",
     "output_type": "stream",
     "text": [
      "Ranked by Distance\n",
      "[['Alpha Centauri A', 4.3], ['Alpha Centauri B', 4.3], ['Alpha centauri C', 4.2], [\"Barnard's Star\", 6.0], ['Wolf 359', 7.7], ['Bd +36 degrees 2147', 8.2], ['Luyten 726-8 A', 8.4], ['Luyten 726-8 B', 8.4], ['Sirius A', 8.6], ['Sirius B', 8.6], ['Ross 154', 9.4]]\n",
      "Ranked by Apparent Brightness\n",
      "[['Ross 154', 2e-05], ['Ross 154', 2e-05], ['Ross 154', 2e-05], ['Ross 154', 2e-05], ['Ross 154', 2e-05], ['Ross 154', 2e-05], ['Ross 154', 2e-05], ['Ross 154', 2e-05], ['Ross 154', 2e-05], ['Ross 154', 2e-05], ['Ross 154', 2e-05]]\n",
      "Ranked by Absolute Brightness\n",
      "[['Ross 154', 0.0005], ['Ross 154', 0.0005], ['Ross 154', 0.0005], ['Ross 154', 0.0005], ['Ross 154', 0.0005], ['Ross 154', 0.0005], ['Ross 154', 0.0005], ['Ross 154', 0.0005], ['Ross 154', 0.0005], ['Ross 154', 0.0005], ['Ross 154', 0.0005]]\n"
     ]
    }
   ],
   "source": [
    "#using list comprehension \n",
    "#l = len(data)\n",
    "#first_iteration = [for l in l]\n",
    "\n",
    "#problem number 1\n",
    "#use list comprehension\n",
    "#can use sorted()\n",
    "\n",
    "#table 1: star name vs. distance (first element)\n",
    "#table 2: star name vs. apparent brightness (second element)\n",
    "#table 3: star name vs. absolute brightness (third element)\n",
    "\n",
    "#use docstring\n",
    "\n",
    "from pprint import pprint\n",
    "\n",
    "data = [\n",
    "    ('Alpha Centauri A', 4.3, 0.26, 1.56), #element 1 in data \n",
    "    ('Alpha Centauri B', 4.3, 0.077, 0.45), #element 2 in data\n",
    "    ('Alpha centauri C', 4.2, 0.000001, 0.000006), #element 3 in data\n",
    "    (\"Barnard's Star\", 6.0, 0.00004, 0.0005), #element 4 in data\n",
    "    ('Wolf 359', 7.7, 0.000001, 0.00002), #element 5 in data\n",
    "    ('Bd +36 degrees 2147', 8.2,  0.0003, 0.006), #element 6 in data\n",
    "    ('Luyten 726-8 A', 8.4, 0.0000003, 0.000006), #element 7 in data\n",
    "    ('Luyten 726-8 B', 8.4, 0.0000002, 0.000004), #element 8 in data\n",
    "    ('Sirius A', 8.6, 1.00, 23.6), #element 9 in data\n",
    "    ('Sirius B', 8.6, 0.001, 0.003), #elemenet 10 in data\n",
    "    ('Ross 154', 9.4, 0.00002, 0.0005), #element 11 in data\n",
    "]\n",
    "\n",
    "data_edit = [[row[i] for row in data] for i in range(4)]\n",
    "\n",
    "star_name = data_edit[0]\n",
    "distance = data_edit[1]\n",
    "apparent_brightness = data_edit[2]\n",
    "absolute_brightness = data_edit[3]\n",
    "\n",
    "\n",
    "print('Ranked by Distance')\n",
    "#for n in range(11):\n",
    "#    print star_name[n], distance[n]\n",
    "ranked_by_distance = [[star_name[x], distance[x]] for x in range(11)] \n",
    "print ranked_by_distance\n",
    "\n",
    "\n",
    "print('Ranked by Apparent Brightness')\n",
    "#for n in range(11):\n",
    "#    print star_name[n], apparent_brightness[n]\n",
    "ranked_by_apparent_brightness = [[star_name[x], apparent_brightness[x]] for y in range(11)] \n",
    "print ranked_by_apparent_brightness \n",
    "\n",
    "print('Ranked by Absolute Brightness')\n",
    "#for n in range(11):\n",
    "#    print star_name[n], absolute_brightness[n]\n",
    "ranked_by_absolute_brightness = [[star_name[x], absolute_brightness[x]] for y in range(11)] \n",
    "print ranked_by_absolute_brightness"
   ]
  },
  {
   "cell_type": "code",
   "execution_count": null,
   "metadata": {
    "collapsed": true
   },
   "outputs": [],
   "source": []
  }
 ],
 "metadata": {
  "kernelspec": {
   "display_name": "Python 2",
   "language": "python",
   "name": "python2"
  },
  "language_info": {
   "codemirror_mode": {
    "name": "ipython",
    "version": 2
   },
   "file_extension": ".py",
   "mimetype": "text/x-python",
   "name": "python",
   "nbconvert_exporter": "python",
   "pygments_lexer": "ipython2",
   "version": "2.7.9"
  }
 },
 "nbformat": 4,
 "nbformat_minor": 0
}
