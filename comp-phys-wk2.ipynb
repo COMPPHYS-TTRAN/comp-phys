{
 "cells": [
  {
   "cell_type": "code",
   "execution_count": 5,
   "metadata": {
    "collapsed": false
   },
   "outputs": [
    {
     "name": "stdout",
     "output_type": "stream",
     "text": [
      "With the for loop, the sum is 1.64393456668\n",
      "correct answer: 1.64493406685\n"
     ]
    }
   ],
   "source": [
    "from math import pi\n",
    "s = 0 \n",
    "max = 1000\n",
    "\n",
    "for i in range(max):\n",
    "    s += 1./(i+1)**2\n",
    "\n",
    "print 'With the for loop, the sum is', s\n",
    "\n",
    "#need to ire-initialize i and s.\n",
    "\n",
    "i = 1\n",
    "s = 0\n",
    "\n",
    "while i <= max:\n",
    "    s += 1./i**2\n",
    "    i = i+1\n",
    "#correct answer is pi^2/6. Let's see how close we get:\n",
    "\n",
    "print 'correct answer:', pi**2/6\n",
    "\n",
    "\n"
   ]
  },
  {
   "cell_type": "code",
   "execution_count": 6,
   "metadata": {
    "collapsed": false
   },
   "outputs": [
    {
     "name": "stdout",
     "output_type": "stream",
     "text": [
      "1\n",
      "1.66666666667\n"
     ]
    }
   ],
   "source": [
    "#float vs. int\n",
    "\n",
    "a = 5\n",
    "b = 3\n",
    "print a/b\n",
    "c = 5.\n",
    "d = 3.\n",
    "print c/d\n"
   ]
  },
  {
   "cell_type": "code",
   "execution_count": 7,
   "metadata": {
    "collapsed": false
   },
   "outputs": [
    {
     "name": "stdout",
     "output_type": "stream",
     "text": [
      "True\n",
      "True\n",
      "True\n",
      "False\n",
      "False\n",
      "True\n"
     ]
    }
   ],
   "source": [
    "#booleans\n",
    "#anything other than 0, evaluates to True\n",
    "\n",
    "b = bool(1)\n",
    "print b\n",
    "\n",
    "b = bool(20)\n",
    "print b\n",
    "\n",
    "b = bool(-3)\n",
    "print b\n",
    "\n",
    "b = bool(0)\n",
    "print b\n",
    "\n",
    "b = bool(0.)\n",
    "print b\n",
    "\n",
    "b = bool(2.5)\n",
    "print b"
   ]
  },
  {
   "cell_type": "code",
   "execution_count": null,
   "metadata": {
    "collapsed": true
   },
   "outputs": [],
   "source": [
    "#????????????\n",
    "+=\n",
    "-=\n",
    "*=\n",
    "/=\n"
   ]
  },
  {
   "cell_type": "code",
   "execution_count": 8,
   "metadata": {
    "collapsed": false
   },
   "outputs": [
    {
     "name": "stdout",
     "output_type": "stream",
     "text": [
      "True\n",
      "  -20  -4.0\n",
      "True\n",
      "  -15   5.0\n",
      "True\n",
      "   -5  23.0\n",
      "True\n",
      "    5  41.0\n",
      "True\n",
      "   10  50.0\n",
      "True\n",
      "   15  59.0\n",
      "True\n",
      "   20  68.0\n"
     ]
    }
   ],
   "source": [
    "#loops\n",
    "Cdegrees = [-20, -15, -5, 5, 10, 15, 20]\n",
    "for C in Cdegrees:\n",
    "    print C in Cdegrees #C in Cdegrees is a boolean expression.\n",
    "    F = (9.0/5)*C + 32.\n",
    "    print '%5d %5.1f' % (C,F) #print format...d means print integer...f means print float\n",
    "    "
   ]
  },
  {
   "cell_type": "code",
   "execution_count": 11,
   "metadata": {
    "collapsed": false
   },
   "outputs": [
    {
     "name": "stdout",
     "output_type": "stream",
     "text": [
      "  -20  -4.0\n",
      "  -15   5.0\n",
      "  -10  14.0\n",
      "   -5  23.0\n",
      "    0  32.0\n",
      "    5  41.0\n",
      "   10  50.0\n",
      "   15  59.0\n",
      "   20  68.0\n"
     ]
    }
   ],
   "source": [
    "#breakout: do the above using a while loop\n",
    "\n",
    "C = -20 #initialize C, first number\n",
    "while C <= 20: #end boolean here\n",
    "    F = (9.0/5)*C + 32.\n",
    "    print '%5d %5.1f' % (C,F) #print format makes it pretty\n",
    "    C += 5\n",
    "    \n",
    "    "
   ]
  },
  {
   "cell_type": "code",
   "execution_count": 5,
   "metadata": {
    "collapsed": false
   },
   "outputs": [
    {
     "name": "stdout",
     "output_type": "stream",
     "text": [
      "c == a: True\n",
      "c is a: False\n"
     ]
    }
   ],
   "source": [
    "import copy\n",
    "c = copy.copy(a)\n",
    "print 'c == a:', c == a\n",
    "print 'c is a:', c is a"
   ]
  },
  {
   "cell_type": "code",
   "execution_count": 4,
   "metadata": {
    "collapsed": false
   },
   "outputs": [
    {
     "name": "stdout",
     "output_type": "stream",
     "text": [
      "r ==a: True\n",
      "r is a: False\n",
      "s == a: True\n",
      "s is a: True\n",
      "a: [1, 2, 'jello', 3, 140000.0]\n",
      "r: [1, 2, 'jello', 3]\n",
      "s: [1, 2, 'jello', 3, 140000.0]\n"
     ]
    }
   ],
   "source": [
    "# is equal to vs. is\n",
    "a = [1, 2, 'jello', 3]\n",
    "r = a[:]\n",
    "s = a\n",
    "\n",
    "print 'r ==a:', r == a\n",
    "print 'r is a:', r is a\n",
    "print 's == a:', s == a\n",
    "print 's is a:', s is a\n",
    "\n",
    "a.append(1.4e5)\n",
    "print 'a:', a\n",
    "print 'r:', r\n",
    "print 's:', s #huge difference b/t r and s"
   ]
  },
  {
   "cell_type": "code",
   "execution_count": null,
   "metadata": {
    "collapsed": true
   },
   "outputs": [],
   "source": [
    "#if you need access to both an element in a list and its index\n",
    "Cdegrees = range(-5, 5, ) #step value for range must be an integer\n",
    "for i, c in enumerate(Cdegrees):\n",
    "    Cdegrees[i] = c+2*i\n",
    "    print i, Cdegrees[i]\n",
    "    \n",
    "#convert temperature in C in increments of .5\n",
    "#n=0\n",
    "#Cdegrees = range(-5, 5, n)\n",
    "#for i, c in enumerate(Cdegrees):\n",
    "#    n = n + .5\n",
    "\n"
   ]
  },
  {
   "cell_type": "code",
   "execution_count": null,
   "metadata": {
    "collapsed": true
   },
   "outputs": [],
   "source": [
    "#list comprehension\n",
    "#start = -5.\n",
    "#end = 5.\n",
    "#step = .5\n",
    "#n = int((end - start)/step) + 1\n",
    "\n",
    "n = 21\n",
    "C = [-5. + .5*i for i in range(n)]\n",
    "F = [(9.0/5)*C[i] + 32. for i in range(n)]"
   ]
  },
  {
   "cell_type": "code",
   "execution_count": null,
   "metadata": {
    "collapsed": true
   },
   "outputs": [],
   "source": [
    "#zip: zips up lists of the same length\n",
    "#copied from X's class, not the same variables in previous cell\n",
    "\n",
    "zip(Cegrees, Fdegrees, C degrees)\n",
    "\n",
    "#not modern formatting--total oddity\n",
    "for C, F in zip(Cdegrees, Fdegrees):\n",
    "    print '%5.1f %5.1f' % (C,F)\n",
    "\n",
    "#modern formatting--more pythonic, more structure/uniform way of doing things\n",
    "for C, F in zip(Cdegrees, Fdegrees):\n",
    "    print \"{:5.1f}, {:5.1f}\" .format(C,F)\n",
    "\n",
    "#example\n",
    "Cdegrees = [0, 10]\n",
    "Fdegrees = [10, 20]\n",
    "[C/F for C, F in zip(Cdegrees, Fdegrees)]"
   ]
  },
  {
   "cell_type": "code",
   "execution_count": null,
   "metadata": {
    "collapsed": true
   },
   "outputs": [],
   "source": [
    "#example\n",
    "Cdegrees = [1, 10]\n",
    "Fdegrees = [10, 20]\n",
    "[C/F for C, F in zip(Cdegrees, Fdegrees)]\n",
    "\n",
    "for C, F in zip(Cdegrees, Fdegrees):\n",
    "    table2.append([C,F])\n",
    "print table2\n",
    "\n"
   ]
  },
  {
   "cell_type": "code",
   "execution_count": null,
   "metadata": {
    "collapsed": true
   },
   "outputs": [],
   "source": [
    "#using list comprehension, create a list of pairs\n",
    "A = [1, 20]\n",
    "B = [1, 20]\n",
    "\n",
    "C = [A+B for A,B in range(5)]\n",
    "D = [A-B for A,B in range(5)]\n",
    "\n",
    "[[C, D] for C,D in zip(A,B)]\n",
    "\n",
    "______________\n",
    "\n",
    "table2 = [[C,F] for C, F in zip(Cdegrees, Fdegrees)] #create a list for C and F"
   ]
  },
  {
   "cell_type": "code",
   "execution_count": null,
   "metadata": {
    "collapsed": true
   },
   "outputs": [],
   "source": [
    "#slicing lists\n",
    "#listname[index1][index2] <---format\n",
    "\n",
    "table1[0:1][0] #first index narrows down the list #second index chooses the element"
   ]
  },
  {
   "cell_type": "code",
   "execution_count": null,
   "metadata": {
    "collapsed": true
   },
   "outputs": [],
   "source": [
    "#list.index(start.):list.index(end.) \n",
    "#for when you don't know how many things inbetwen start and end \n",
    "\n"
   ]
  },
  {
   "cell_type": "code",
   "execution_count": 6,
   "metadata": {
    "collapsed": false
   },
   "outputs": [
    {
     "name": "stdout",
     "output_type": "stream",
     "text": [
      "  12   16   11   12\n",
      "   9\n",
      "   6    9   11   14   17   15   14   20\n"
     ]
    }
   ],
   "source": [
    "scores = []\n",
    "scores.append([12, 16, 11, 12])\n",
    "scores.append([9])\n",
    "scores.append([6, 9, 11, 14, 17, 15, 14, 20])\n",
    "\n",
    "for p in scores:\n",
    "    for g in p:\n",
    "        print '{:4d}' .format(g), #the comma\n",
    "    print"
   ]
  },
  {
   "cell_type": "code",
   "execution_count": 11,
   "metadata": {
    "collapsed": false
   },
   "outputs": [
    {
     "name": "stdout",
     "output_type": "stream",
     "text": [
      "['shark', 2, 'text.txt', 6.0, 4, 5]\n",
      "('shark', 2, 'text.txt', 6.0, 4, 5)\n",
      "('shark', 2, 'text.txt', 6.0, 4, 5, 4)\n"
     ]
    }
   ],
   "source": [
    "#tuples: put anything in a tupple -->string, numbers, fractions, lists\n",
    "#tuples are inmutable: you cannot change existing elements in a tuple\n",
    "\n",
    "t = ('shark', 2, 'text.txt', 6.0)\n",
    "t[1] #operation is okay\n",
    "#t[1] = 4 #definitely not okay\n",
    "\n",
    "#can concatenate tuples and lists\n",
    "l = ['shark', 2, 'text.txt', 6.0]\n",
    "l = l + [4, 5]\n",
    "print l\n",
    "t = t + (4,5)\n",
    "print t\n",
    "\n",
    "#adding one element to a tuple\n",
    "t = t + (4,) #single tuple must have comma\n",
    "print t"
   ]
  },
  {
   "cell_type": "code",
   "execution_count": null,
   "metadata": {
    "collapsed": true
   },
   "outputs": [],
   "source": [
    "#FUNctions\n",
    "def F(C):\n",
    "    #usually end with a return\n",
    "    #end with return such that you know the function ended\n",
    "    "
   ]
  }
 ],
 "metadata": {
  "kernelspec": {
   "display_name": "Python 2",
   "language": "python",
   "name": "python2"
  },
  "language_info": {
   "codemirror_mode": {
    "name": "ipython",
    "version": 2
   },
   "file_extension": ".py",
   "mimetype": "text/x-python",
   "name": "python",
   "nbconvert_exporter": "python",
   "pygments_lexer": "ipython2",
   "version": "2.7.9"
  }
 },
 "nbformat": 4,
 "nbformat_minor": 0
}
