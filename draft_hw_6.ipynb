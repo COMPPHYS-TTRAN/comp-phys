{
 "cells": [
  {
   "cell_type": "code",
   "execution_count": 61,
   "metadata": {
    "collapsed": false
   },
   "outputs": [
    {
     "name": "stderr",
     "output_type": "stream",
     "text": [
      "/Users/labuser/Library/Enthought/Canopy_64bit/User/lib/python2.7/site-packages/IPython/kernel/__main__.py:25: FutureWarning: comparison to `None` will result in an elementwise object comparison in the future.\n"
     ]
    },
    {
     "data": {
      "image/png": "[encoded data removed]",
      "text/plain": [
       "<matplotlib.figure.Figure at 0x10db3d350>"
      ]
     },
     "metadata": {},
     "output_type": "display_data"
    },
    {
     "data": {
      "image/png": "[encoded data removed]",
      "text/plain": [
       "<matplotlib.figure.Figure at 0x10dee83d0>"
      ]
     },
     "metadata": {},
     "output_type": "display_data"
    },
    {
     "data": {
      "text/plain": [
       "(array([ 0.00000000  +0.j        ,  0.00120557 -33.84618519j,\n",
       "        -0.00759987+106.68290971j, ...,  0.00489217 +45.78242297j,\n",
       "        -0.00759987-106.68290971j,  0.00120557 +33.84618519j]),\n",
       " array([ 0. ,  0.5,  1. , ..., -1.5, -1. , -0.5]))"
      ]
     },
     "execution_count": 61,
     "metadata": {},
     "output_type": "execute_result"
    }
   ],
   "source": [
    "%matplotlib inline\n",
    "import matplotlib.pyplot as plt\n",
    "from scipy.io.wavfile import write\n",
    "import os\n",
    "import numpy as np\n",
    "\n",
    "\n",
    "class Tone:\n",
    "    \n",
    "    def __init__(self):\n",
    "                 #, f, dur, sr, signal, orig_signal, overtones, OT_num)\n",
    "        self.f = 0 #int #frequency\n",
    "        self.dur = 0 #int #duration\n",
    "        self.sr = 44100 #int #sampling rate \n",
    "        self.signal = 0 #numpy array #stores the tone plus the overtones\n",
    "        self.orig_signal = 0 #numpy array #stores the simple one-frequency tone with frequency f1\n",
    "        self.overtones = {} #dictionary #stores overtones #\n",
    "                            #key: a number of multiples of f1 #value: an overtone numpy array\n",
    "        self.OT_num = 0 #the number of overtones present\n",
    "                        #should increase by one each time a new overtone is created\n",
    "    \n",
    "    def playsound(self, outside_signal = None, sr = 44100, vol = 1):\n",
    "        from scipy.io.wavfile import write\n",
    "        import os\n",
    "        if outside_signal == None:\n",
    "            write('tmp.wav', self.sr, self.signal)\n",
    "            os.system(\"afplay tmp.wav\") \n",
    "            os.system(\"rm tmp.wav\") \n",
    "        else:\n",
    "            self.signal == outside_signal\n",
    "            os.system(\"afplay tmp.wav\") \n",
    "            os.system(\"rm tmp.wav\") \n",
    "        return\n",
    "    \n",
    "    def get_tone(self, f, dur, play_sound = False):\n",
    "        self.f = f\n",
    "        self.dur = dur\n",
    "        amp = 2**10\n",
    "        time_pts = np.linspace(0, self.dur, self.dur*self.sr)\n",
    "        self.orig_signal = np.int16(amp*np.sin(np.pi*2*self.f*time_pts))\n",
    "        self.signal = self.orig_signal\n",
    "        if play_sound == True:\n",
    "            self.playsound(self.orig_signal)\n",
    "        return self.orig_signal #numpy array #generated tone \n",
    "    \n",
    "    def get_overtone(self, multi, play_sound = False):\n",
    "        fr = multi*self.f\n",
    "        amp = 2**10\n",
    "        time_pts = np.linspace(0, self.dur, self.dur*self.sr)\n",
    "        over_tone = np.int16(amp*np.sin(np.pi*2*fr*time_pts))\n",
    "        self.overtones[fr] = over_tone\n",
    "        self.OT_num += 1\n",
    "        if play_sound == True:\n",
    "            self.playsound(self.over_tone)\n",
    "        return None\n",
    "    \n",
    "    def comb_tones(self): #needs weights\n",
    "        weight_overtones = {}\n",
    "        sum_squares = 0\n",
    "        self.overtones[self.f] = self.orig_signal\n",
    "        for key in self.overtones.iterkeys():\n",
    "            weight_overtones[key] = int(raw_input('Input the weight of the ' + str(key) + ' Hz tone')) \n",
    "        weight_overtones[self.f] = int(raw_input('Input the weight of the fundamental frequency:'))\n",
    "        for k in weight_overtones.iterkeys():\n",
    "            sum_squares += weight_overtones[k]**2\n",
    "        norm_fac = 1./np.sqrt(sum_squares)\n",
    "        for k in self.overtones.iterkeys():\n",
    "            self.signal += norm_fac*(self.overtones[k])*(weight_overtones[k])\n",
    "        return self.signal\n",
    "        \n",
    "    def plot_fourier(self, sample_rate = 44100, freq_lim = 2000., amp_lim = 1e7):\n",
    "        ft = np.fft.fft(np.float64(self.signal))\n",
    "        self.f = np.fft.fftfreq(self.signal.shape[-1], d = 1./sample_rate)\n",
    "        plt.figure()\n",
    "        plt.title('Real')\n",
    "        plt.plot(self.f, ft.real, 'b-')\n",
    "        plt.xlim([-freq_lim, freq_lim])\n",
    "        plt.figure()\n",
    "        plt.title('Imaginary')\n",
    "        plt.plot(self.f, ft.imag, 'g-')\n",
    "        plt.xlim([-freq_lim, freq_lim])\n",
    "        plt.show()\n",
    "    \n",
    "        return ft, self.f\n",
    "    \n",
    "    def plot_sound(self, \n",
    "    \n",
    "test = Tone()\n",
    "#test.get_tone(220, 2)\n",
    "#test.get_overtone(3)\n",
    "#test.get_overtone(4)\n",
    "#test.comb_tones()\n",
    "\n",
    "test.get_tone(220, 2, play_sound = True)\n",
    "\n",
    "\n",
    "test.plot_fourier()\n"
   ]
  },
  {
   "cell_type": "code",
   "execution_count": null,
   "metadata": {
    "collapsed": true
   },
   "outputs": [],
   "source": []
  }
 ],
 "metadata": {
  "kernelspec": {
   "display_name": "Python 2",
   "language": "python",
   "name": "python2"
  },
  "language_info": {
   "codemirror_mode": {
    "name": "ipython",
    "version": 2
   },
   "file_extension": ".py",
   "mimetype": "text/x-python",
   "name": "python",
   "nbconvert_exporter": "python",
   "pygments_lexer": "ipython2",
   "version": "2.7.9"
  }
 },
 "nbformat": 4,
 "nbformat_minor": 0
}
