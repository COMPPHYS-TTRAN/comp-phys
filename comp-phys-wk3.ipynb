{
 "cells": [
  {
   "cell_type": "code",
   "execution_count": 1,
   "metadata": {
    "collapsed": false
   },
   "outputs": [
    {
     "ename": "SyntaxError",
     "evalue": "invalid syntax (<ipython-input-1-89e885c05824>, line 7)",
     "output_type": "error",
     "traceback": [
      "\u001b[0;36m  File \u001b[0;32m\"<ipython-input-1-89e885c05824>\"\u001b[0;36m, line \u001b[0;32m7\u001b[0m\n\u001b[0;31m    return '{:.1f} degrees Celsius correpsonds to to'             '{:.1f}' degrees Farenheight' .format(C, F_value)\u001b[0m\n\u001b[0m                                                                                 ^\u001b[0m\n\u001b[0;31mSyntaxError\u001b[0m\u001b[0;31m:\u001b[0m invalid syntax\n"
     ]
    }
   ],
   "source": [
    "#global vs. local variables \n",
    "#namespace = scope: where a variable lives: is it inside or outside function? is it a global or local variable?\n",
    "\n",
    "def F2(C):\n",
    "    F_value = (9.0/5)*C +32.\n",
    "    print 'C inside F2 = '\n",
    "    return '{:.1f} degrees Celsius correpsonds to to' \\\n",
    "            '{:.1f}' degrees Farenheight' .format(C, F_value)\n"
   ]
  },
  {
   "cell_type": "code",
   "execution_count": 9,
   "metadata": {
    "collapsed": false
   },
   "outputs": [
    {
     "name": "stdout",
     "output_type": "stream",
     "text": [
      "Outside f(), a =  3\n",
      "Inside f(), a =  2\n",
      "Outside f(), a =  3\n",
      "Inside f(), d =  0.333333333333\n",
      "Outside f(), a =  3\n"
     ]
    }
   ],
   "source": [
    "#changing global variable inside a function\n",
    "#if you're inside a function, and you want to change the value of a global variable, then you have to explicitly state it\n",
    "\n",
    "a = 3\n",
    "print \"Outside f(), a = \", a\n",
    "def f():\n",
    "    global a #explicitly state that 'a' is a global variable\n",
    "    a = 2\n",
    "    print \"Inside f(), a = \", a\n",
    "f()\n",
    "\n",
    "#for functions, if you don't define your variable in the function (local variable), \n",
    "#then python looks for a global variable\n",
    "\n",
    "\n",
    "#this will throw an error\n",
    "a = 3\n",
    "print \"Outside f(), a = \", a\n",
    "def f():\n",
    "    b = 3\n",
    "    #global a\n",
    "    #or another fix is to change LHS 'a' on bottom equation to another variable\n",
    "    a = 1./a #python looks at right handside first: refers to global 'a', sees two global 'a'\n",
    "    #'a' is not declared as a global variable, but you're trying to change global a\n",
    "    print \"Inside f(), d = \", a\n",
    "    \n",
    "f()\n",
    "print \"Outside f(), a = \", a"
   ]
  },
  {
   "cell_type": "code",
   "execution_count": 14,
   "metadata": {
    "collapsed": false
   },
   "outputs": [
    {
     "name": "stdout",
     "output_type": "stream",
     "text": [
      "509.5\n",
      "-48050.0\n",
      "docstring for yfunc(): \n",
      "    finds displacement with constant gravitational acceleration on Earth, using positional arguments\n",
      "    \n",
      "-48050.0\n",
      "-48050.0\n",
      "docstring for yfunc(): \n",
      "    finds displacement with constant gravitational acceleration on Earth, using positional arguments\n",
      "    \n"
     ]
    }
   ],
   "source": [
    "#positional vs. key arguments, brevity vs. clarity\n",
    "#positional is succinct\n",
    "#key arguments are clear\n",
    "#python will looks for positional arguments first, THEN key arguments\n",
    "#always put positional arguments first\n",
    "\n",
    "\n",
    "def yfunc(t, v0):\n",
    "    '''\n",
    "    finds displacement with constant gravitational acceleration on Earth, using positional arguments\n",
    "    '''\n",
    "    g = 9.81\n",
    "    return v0*t - 0.5*g*t**2\n",
    "print yfunc(10, 100)\n",
    "print yfunc(100, 10)\n",
    "print 'docstring for yfunc():', yfunc.__doc__\n",
    "\n",
    "\n",
    "#example of keyword arguments\n",
    "def yfunc(t = 1, v0 = 0):\n",
    "    '''\n",
    "    finds displacement with constant gravitational acceleration on Earth, using positional arguments\n",
    "    '''\n",
    "    g = 9.81\n",
    "    return v0*t - 0.5*g*t**2\n",
    "print yfunc(v0 = 10, t = 100)\n",
    "print yfunc(t = 100, v0 = 10)\n",
    "print 'docstring for yfunc():', yfunc.__doc__"
   ]
  },
  {
   "cell_type": "code",
   "execution_count": 16,
   "metadata": {
    "collapsed": false
   },
   "outputs": [
    {
     "name": "stdout",
     "output_type": "stream",
     "text": [
      "100000 loops, best of 3: 8.32 µs per loop\n"
     ]
    }
   ],
   "source": [
    "#magic function (line magic vs. cell magin) in iPython\n",
    "\n",
    "#line magic\n",
    "%timeit range(1000) #times how fast a function runs #%times the single line\n"
   ]
  },
  {
   "cell_type": "code",
   "execution_count": 17,
   "metadata": {
    "collapsed": false
   },
   "outputs": [
    {
     "ename": "SyntaxError",
     "evalue": "invalid syntax (<ipython-input-17-3ef375ac2309>, line 3)",
     "output_type": "error",
     "traceback": [
      "\u001b[0;36m  File \u001b[0;32m\"<ipython-input-17-3ef375ac2309>\"\u001b[0;36m, line \u001b[0;32m3\u001b[0m\n\u001b[0;31m    %%timeit x = range(1000) #times how fast an entire cell runs #%% times the entire cell\u001b[0m\n\u001b[0m    ^\u001b[0m\n\u001b[0;31mSyntaxError\u001b[0m\u001b[0;31m:\u001b[0m invalid syntax\n"
     ]
    }
   ],
   "source": [
    "#magic function continued\n",
    "#cell magic\n",
    "%%timeit x = range(1000) #times how fast an entire cell runs #%% times the entire cell\n",
    "max(x)"
   ]
  },
  {
   "cell_type": "code",
   "execution_count": 27,
   "metadata": {
    "collapsed": false
   },
   "outputs": [
    {
     "name": "stdout",
     "output_type": "stream",
     "text": [
      "[0, 2, 4, 6, 8, 10, 12, 14, 16, 18, 20, 22, 24, 26, 28, 30, 32, 34, 36, 38, 40, 42, 44, 46, 48, 50, 52, 54, 56, 58, 60, 62, 64, 66, 68, 70, 72, 74, 76, 78, 80, 82, 84, 86, 88, 90, 92, 94, 96, 98, 100]\n",
      "100000 loops, best of 3: 10.4 µs per loop\n",
      "1000000 loops, best of 3: 721 ns per loop\n"
     ]
    }
   ],
   "source": [
    "def makelist(start, stop, inc):\n",
    "    value = start\n",
    "    result = []\n",
    "    while value <= stop:\n",
    "        result.append(value)\n",
    "        value += inc\n",
    "    return result\n",
    "\n",
    "mylist = makelist(0, 100, 2)\n",
    "print mylist\n",
    "\n",
    "%timeit y = makelist(0, 100, 2)\n",
    "%timeit y = range(0, 100, 2) #this runs faster than the function you wrote, by a gang"
   ]
  },
  {
   "cell_type": "code",
   "execution_count": 29,
   "metadata": {
    "collapsed": false
   },
   "outputs": [
    {
     "name": "stdout",
     "output_type": "stream",
     "text": [
      "position = {:10.2g} veolocity = {:10.2g} .format(ps, vel)\n",
      "position = {:+10.2g} veolocity = {:+10.2g} .format(ps, vel)\n",
      "position = {:+10.2g} veolocity = {:+10.2g} .format(*yfunc2(2, 10))\n",
      "docstring for yfunc(): \n",
      "    finds displacement with constant gravitational acceleration on Earth, using positional arguments\n",
      "    \n"
     ]
    }
   ],
   "source": [
    "#functions with more than one return values\n",
    "def yfunc2(t, v0):\n",
    "    '''\n",
    "    finds displacement with constant gravitational acceleration on Earth, using positional arguments\n",
    "    '''\n",
    "    g = 9.81\n",
    "    y = v0*t - 0.5*g*t**2\n",
    "    yprime = v0 - g*t\n",
    "    return y, yprime\n",
    "pos, vel = yfunc2(2, 10) #the LHS is a tuple (no, you don't need () around)\n",
    "                        #the difference between using and not using the + sign:\n",
    "print 'position = {:10.2g} veolocity = {:10.2g} .format(ps, vel)' #w/o the puls sign, you will only get -\n",
    "print 'position = {:+10.2g} veolocity = {:+10.2g} .format(ps, vel)' #the plus sign will give you +/-\n",
    "\n",
    "#Or, equivalently (and it seems mysterioius..):\n",
    "print 'position = {:+10.2g} veolocity = {:+10.2g} .format(*yfunc2(2, 10))' #join both pos and vel, * operator\n",
    "print 'docstring for yfunc():', yfunc.__doc__"
   ]
  },
  {
   "cell_type": "code",
   "execution_count": 32,
   "metadata": {
    "collapsed": false
   },
   "outputs": [
    {
     "name": "stdout",
     "output_type": "stream",
     "text": [
      "[3, 4, 5]\n",
      "[3, 4, 5]\n",
      "[3, 4, 5]\n"
     ]
    }
   ],
   "source": [
    "#the \"unpacking operator\": *\n",
    "print range (3, 6) #normal call with separate arguements\n",
    "range_params = [3, 6]\n",
    "print range(*range_params) #call with arguments unpacked from a list\n",
    "range_params = 3, 6 \n",
    "print range(*range_params) #call with arguments unpacked from a tuple\n",
    "\n",
    "#print range(range_params) #will not work because range_params is a tuple, and range() is looking for a number\n",
    "#Explain why print range(range_params) won't work??"
   ]
  },
  {
   "cell_type": "code",
   "execution_count": null,
   "metadata": {
    "collapsed": true
   },
   "outputs": [],
   "source": [
    "def f(x):\n",
    "    return x, x**2, x**4\n",
    "s= f(3)\n",
    "s\n",
    "type(s)\n",
    "type(f(3))\n",
    "#All three fo the following are valid.\n",
    "\n",
    "(x, x2, x4) = f(3) #tuple\n",
    "x, x2, x4 = f(3) #tuple\n",
    "[x, x2, x4] = f(3) #list"
   ]
  },
  {
   "cell_type": "code",
   "execution_count": 33,
   "metadata": {
    "collapsed": false
   },
   "outputs": [
    {
     "ename": "SyntaxError",
     "evalue": "invalid syntax (<ipython-input-33-9156e6a98446>, line 6)",
     "output_type": "error",
     "traceback": [
      "\u001b[0;36m  File \u001b[0;32m\"<ipython-input-33-9156e6a98446>\"\u001b[0;36m, line \u001b[0;32m6\u001b[0m\n\u001b[0;31m    Esp. useful commands in pdb\u001b[0m\n\u001b[0m                       ^\u001b[0m\n\u001b[0;31mSyntaxError\u001b[0m\u001b[0;31m:\u001b[0m invalid syntax\n"
     ]
    }
   ],
   "source": [
    "#interactive python debugging tool (module:pdb)\n",
    "#google 'python pdb' \n",
    "#chose 26.2\n",
    "#will want to import pdb\n",
    "#pdb.set_trace() #this is where your breakpoint is\n",
    "\n",
    "\n",
    "Esp. useful commands in pdb\n",
    "- n(ext) #will skip through function\n",
    "- s(tep) #will go into function\n",
    "- p(rint) #print in the command line....?\n",
    "- unt(il) #execute as much as need until the line number increases by one\n",
    "- c(ontinue) #execute until the next breakpoint or until the end\n",
    "- l(ist) #gives 10 statements above where you are -locator\n",
    "- w(here) #same concept -locator\n",
    "- h(elp) #help...?\n",
    "- q(uit) #done with breaks, go back to fixing program\n",
    "\n"
   ]
  },
  {
   "cell_type": "code",
   "execution_count": 58,
   "metadata": {
    "collapsed": false
   },
   "outputs": [
    {
     "name": "stdout",
     "output_type": "stream",
     "text": [
      "Taylor Series Approximation: 0.431945622001\n",
      "exact_val 1.09861228867\n",
      "log1p output 1.09861228867\n"
     ]
    }
   ],
   "source": [
    "import pdb\n",
    "\n",
    "def L(x, n):\n",
    "    #pdb.set_trace()\n",
    "    approx = 0\n",
    "    for i in range(1, n + 1):\n",
    "        approx += (1./(i+1.))*(x/(1.+x))**(i+1.)\n",
    "    return approx\n",
    "\n",
    "\n",
    "\n",
    "x = 2\n",
    "#approx = 0\n",
    "y = L(x, 100)\n",
    "print 'Taylor Series Approximation:', y\n",
    "from math import log  #you would guess math module would have log...yes!\n",
    "exact_val = log(1+x)\n",
    "print 'exact_val', exact_val\n",
    "from math import log1p  #more accurate for small x.\n",
    "print 'log1p output', log1p(x)"
   ]
  },
  {
   "cell_type": "code",
   "execution_count": null,
   "metadata": {
    "collapsed": true
   },
   "outputs": [],
   "source": []
  }
 ],
 "metadata": {
  "kernelspec": {
   "display_name": "Python 2",
   "language": "python",
   "name": "python2"
  },
  "language_info": {
   "codemirror_mode": {
    "name": "ipython",
    "version": 2
   },
   "file_extension": ".py",
   "mimetype": "text/x-python",
   "name": "python",
   "nbconvert_exporter": "python",
   "pygments_lexer": "ipython2",
   "version": "2.7.9"
  }
 },
 "nbformat": 4,
 "nbformat_minor": 0
}
