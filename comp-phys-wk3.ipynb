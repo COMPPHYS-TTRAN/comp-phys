{
 "cells": [
  {
   "cell_type": "code",
   "execution_count": 1,
   "metadata": {
    "collapsed": false
   },
   "outputs": [
    {
     "ename": "SyntaxError",
     "evalue": "invalid syntax (<ipython-input-1-89e885c05824>, line 7)",
     "output_type": "error",
     "traceback": [
      "\u001b[0;36m  File \u001b[0;32m\"<ipython-input-1-89e885c05824>\"\u001b[0;36m, line \u001b[0;32m7\u001b[0m\n\u001b[0;31m    return '{:.1f} degrees Celsius correpsonds to to'             '{:.1f}' degrees Farenheight' .format(C, F_value)\u001b[0m\n\u001b[0m                                                                                 ^\u001b[0m\n\u001b[0;31mSyntaxError\u001b[0m\u001b[0;31m:\u001b[0m invalid syntax\n"
     ]
    }
   ],
   "source": [
    "#global vs. local variables \n",
    "#namespace = scope: where a variable lives: is it inside or outside function? is it a global or local variable?\n",
    "\n",
    "def F2(C):\n",
    "    F_value = (9.0/5)*C +32.\n",
    "    print 'C inside F2 = '\n",
    "    return '{:.1f} degrees Celsius correpsonds to to' \\\n",
    "            '{:.1f}' degrees Farenheight' .format(C, F_value)\n"
   ]
  },
  {
   "cell_type": "code",
   "execution_count": 9,
   "metadata": {
    "collapsed": false
   },
   "outputs": [
    {
     "name": "stdout",
     "output_type": "stream",
     "text": [
      "Outside f(), a =  3\n",
      "Inside f(), a =  2\n",
      "Outside f(), a =  3\n",
      "Inside f(), d =  0.333333333333\n",
      "Outside f(), a =  3\n"
     ]
    }
   ],
   "source": [
    "#changing global variable inside a function\n",
    "#if you're inside a function, and you want to change the value of a global variable, then you have to explicitly state it\n",
    "\n",
    "a = 3\n",
    "print \"Outside f(), a = \", a\n",
    "def f():\n",
    "    global a #explicitly state that 'a' is a global variable\n",
    "    a = 2\n",
    "    print \"Inside f(), a = \", a\n",
    "f()\n",
    "\n",
    "#for functions, if you don't define your variable in the function (local variable), \n",
    "#then python looks for a global variable\n",
    "\n",
    "\n",
    "#this will throw an error\n",
    "a = 3\n",
    "print \"Outside f(), a = \", a\n",
    "def f():\n",
    "    b = 3\n",
    "    #global a\n",
    "    #or another fix is to change LHS 'a' on bottom equation to another variable\n",
    "    a = 1./a #python looks at right handside first: refers to global 'a', sees two global 'a'\n",
    "    #'a' is not declared as a global variable, but you're trying to change global a\n",
    "    print \"Inside f(), d = \", a\n",
    "    \n",
    "f()\n",
    "print \"Outside f(), a = \", a"
   ]
  },
  {
   "cell_type": "code",
   "execution_count": 14,
   "metadata": {
    "collapsed": false
   },
   "outputs": [
    {
     "name": "stdout",
     "output_type": "stream",
     "text": [
      "509.5\n",
      "-48050.0\n",
      "docstring for yfunc(): \n",
      "    finds displacement with constant gravitational acceleration on Earth, using positional arguments\n",
      "    \n",
      "-48050.0\n",
      "-48050.0\n",
      "docstring for yfunc(): \n",
      "    finds displacement with constant gravitational acceleration on Earth, using positional arguments\n",
      "    \n"
     ]
    }
   ],
   "source": [
    "#positional vs. key arguments, brevity vs. clarity\n",
    "#positional is succinct\n",
    "#key arguments are clear\n",
    "#python will looks for positional arguments first, THEN key arguments\n",
    "#always put positional arguments first\n",
    "\n",
    "\n",
    "def yfunc(t, v0):\n",
    "    '''\n",
    "    finds displacement with constant gravitational acceleration on Earth, using positional arguments\n",
    "    '''\n",
    "    g = 9.81\n",
    "    return v0*t - 0.5*g*t**2\n",
    "print yfunc(10, 100)\n",
    "print yfunc(100, 10)\n",
    "print 'docstring for yfunc():', yfunc.__doc__\n",
    "\n",
    "\n",
    "#example of keyword arguments\n",
    "def yfunc(t = 1, v0 = 0):\n",
    "    '''\n",
    "    finds displacement with constant gravitational acceleration on Earth, using positional arguments\n",
    "    '''\n",
    "    g = 9.81\n",
    "    return v0*t - 0.5*g*t**2\n",
    "print yfunc(v0 = 10, t = 100)\n",
    "print yfunc(t = 100, v0 = 10)\n",
    "print 'docstring for yfunc():', yfunc.__doc__"
   ]
  },
  {
   "cell_type": "code",
   "execution_count": 16,
   "metadata": {
    "collapsed": false
   },
   "outputs": [
    {
     "name": "stdout",
     "output_type": "stream",
     "text": [
      "100000 loops, best of 3: 8.32 µs per loop\n"
     ]
    }
   ],
   "source": [
    "#magic function (line magic vs. cell magin) in iPython\n",
    "\n",
    "#line magic\n",
    "%timeit range(1000) #times how fast a function runs #%times the single line\n"
   ]
  },
  {
   "cell_type": "code",
   "execution_count": 9,
   "metadata": {
    "collapsed": false
   },
   "outputs": [
    {
     "name": "stdout",
     "output_type": "stream",
     "text": [
      "10000 loops, best of 3: 28.7 µs per loop\n"
     ]
    }
   ],
   "source": [
    "%%timeit x = range(1000) #times how fast an entire cell runs #%% times the entire cell\n",
    "max(x)\n",
    "#magic function continued\n",
    "#cell magic\n",
    "#cannot have comment above cell magic"
   ]
  },
  {
   "cell_type": "code",
   "execution_count": 27,
   "metadata": {
    "collapsed": false
   },
   "outputs": [
    {
     "name": "stdout",
     "output_type": "stream",
     "text": [
      "[0, 2, 4, 6, 8, 10, 12, 14, 16, 18, 20, 22, 24, 26, 28, 30, 32, 34, 36, 38, 40, 42, 44, 46, 48, 50, 52, 54, 56, 58, 60, 62, 64, 66, 68, 70, 72, 74, 76, 78, 80, 82, 84, 86, 88, 90, 92, 94, 96, 98, 100]\n",
      "100000 loops, best of 3: 10.4 µs per loop\n",
      "1000000 loops, best of 3: 721 ns per loop\n"
     ]
    }
   ],
   "source": [
    "def makelist(start, stop, inc):\n",
    "    value = start\n",
    "    result = []\n",
    "    while value <= stop:\n",
    "        result.append(value)\n",
    "        value += inc\n",
    "    return result\n",
    "\n",
    "mylist = makelist(0, 100, 2)\n",
    "print mylist\n",
    "\n",
    "%timeit y = makelist(0, 100, 2)\n",
    "%timeit y = range(0, 100, 2) #this runs faster than the function you wrote, by a gang"
   ]
  },
  {
   "cell_type": "code",
   "execution_count": 29,
   "metadata": {
    "collapsed": false
   },
   "outputs": [
    {
     "name": "stdout",
     "output_type": "stream",
     "text": [
      "position = {:10.2g} veolocity = {:10.2g} .format(ps, vel)\n",
      "position = {:+10.2g} veolocity = {:+10.2g} .format(ps, vel)\n",
      "position = {:+10.2g} veolocity = {:+10.2g} .format(*yfunc2(2, 10))\n",
      "docstring for yfunc(): \n",
      "    finds displacement with constant gravitational acceleration on Earth, using positional arguments\n",
      "    \n"
     ]
    }
   ],
   "source": [
    "#functions with more than one return values\n",
    "def yfunc2(t, v0):\n",
    "    '''\n",
    "    finds displacement with constant gravitational acceleration on Earth, using positional arguments\n",
    "    '''\n",
    "    g = 9.81\n",
    "    y = v0*t - 0.5*g*t**2\n",
    "    yprime = v0 - g*t\n",
    "    return y, yprime\n",
    "pos, vel = yfunc2(2, 10) #the LHS is a tuple (no, you don't need () around)\n",
    "                        #the difference between using and not using the + sign:\n",
    "print 'position = {:10.2g} veolocity = {:10.2g} .format(ps, vel)' #w/o the puls sign, you will only get -\n",
    "print 'position = {:+10.2g} veolocity = {:+10.2g} .format(ps, vel)' #the plus sign will give you +/-\n",
    "\n",
    "#Or, equivalently (and it seems mysterioius..):\n",
    "print 'position = {:+10.2g} veolocity = {:+10.2g} .format(*yfunc2(2, 10))' #join both pos and vel, * operator\n",
    "print 'docstring for yfunc():', yfunc.__doc__"
   ]
  },
  {
   "cell_type": "code",
   "execution_count": 32,
   "metadata": {
    "collapsed": false
   },
   "outputs": [
    {
     "name": "stdout",
     "output_type": "stream",
     "text": [
      "[3, 4, 5]\n",
      "[3, 4, 5]\n",
      "[3, 4, 5]\n"
     ]
    }
   ],
   "source": [
    "#the \"unpacking operator\": *\n",
    "print range (3, 6) #normal call with separate arguements\n",
    "range_params = [3, 6]\n",
    "print range(*range_params) #call with arguments unpacked from a list\n",
    "range_params = 3, 6 \n",
    "print range(*range_params) #call with arguments unpacked from a tuple\n",
    "\n",
    "#print range(range_params) #will not work because range_params is a tuple, and range() is looking for a number\n",
    "#Explain why print range(range_params) won't work??"
   ]
  },
  {
   "cell_type": "code",
   "execution_count": null,
   "metadata": {
    "collapsed": true
   },
   "outputs": [],
   "source": [
    "def f(x):\n",
    "    return x, x**2, x**4\n",
    "s= f(3)\n",
    "s\n",
    "type(s)\n",
    "type(f(3))\n",
    "#All three fo the following are valid.\n",
    "\n",
    "(x, x2, x4) = f(3) #tuple\n",
    "x, x2, x4 = f(3) #tuple\n",
    "[x, x2, x4] = f(3) #list"
   ]
  },
  {
   "cell_type": "code",
   "execution_count": 33,
   "metadata": {
    "collapsed": false
   },
   "outputs": [
    {
     "ename": "SyntaxError",
     "evalue": "invalid syntax (<ipython-input-33-9156e6a98446>, line 6)",
     "output_type": "error",
     "traceback": [
      "\u001b[0;36m  File \u001b[0;32m\"<ipython-input-33-9156e6a98446>\"\u001b[0;36m, line \u001b[0;32m6\u001b[0m\n\u001b[0;31m    Esp. useful commands in pdb\u001b[0m\n\u001b[0m                       ^\u001b[0m\n\u001b[0;31mSyntaxError\u001b[0m\u001b[0;31m:\u001b[0m invalid syntax\n"
     ]
    }
   ],
   "source": [
    "#interactive python debugging tool (module:pdb)\n",
    "#google 'python pdb' \n",
    "#chose 26.2\n",
    "#will want to import pdb\n",
    "#pdb.set_trace() #this is where your breakpoint is\n",
    "\n",
    "\n",
    "Esp. useful commands in pdb\n",
    "- n(ext) #will skip through function\n",
    "- s(tep) #will go into function\n",
    "- p(rint) #print in the command line....?\n",
    "- unt(il) #execute as much as need until the line number increases by one\n",
    "- c(ontinue) #execute until the next breakpoint or until the end\n",
    "- l(ist) #gives 10 statements above where you are -locator\n",
    "- w(here) #same concept -locator\n",
    "- h(elp) #help...?\n",
    "- q(uit) #done with breaks, go back to fixing program\n",
    "\n"
   ]
  },
  {
   "cell_type": "code",
   "execution_count": 8,
   "metadata": {
    "collapsed": false
   },
   "outputs": [
    {
     "name": "stdout",
     "output_type": "stream",
     "text": [
      "Error, x needs to be positive\n"
     ]
    },
    {
     "ename": "ZeroDivisionError",
     "evalue": "float division by zero",
     "output_type": "error",
     "traceback": [
      "\u001b[0;31m---------------------------------------------------------------------------\u001b[0m",
      "\u001b[0;31mZeroDivisionError\u001b[0m                         Traceback (most recent call last)",
      "\u001b[0;32m<ipython-input-8-5e4167c597c5>\u001b[0m in \u001b[0;36m<module>\u001b[0;34m()\u001b[0m\n\u001b[1;32m     12\u001b[0m \u001b[0mx\u001b[0m \u001b[0;34m=\u001b[0m \u001b[0;34m-\u001b[0m\u001b[0;36m1\u001b[0m\u001b[0;34m\u001b[0m\u001b[0m\n\u001b[1;32m     13\u001b[0m \u001b[0;31m#approx = 0\u001b[0m\u001b[0;34m\u001b[0m\u001b[0;34m\u001b[0m\u001b[0m\n\u001b[0;32m---> 14\u001b[0;31m \u001b[0my\u001b[0m \u001b[0;34m=\u001b[0m \u001b[0mL\u001b[0m\u001b[0;34m(\u001b[0m\u001b[0mx\u001b[0m\u001b[0;34m,\u001b[0m \u001b[0;36m1000\u001b[0m\u001b[0;34m)\u001b[0m\u001b[0;34m\u001b[0m\u001b[0m\n\u001b[0m\u001b[1;32m     15\u001b[0m \u001b[0;32mprint\u001b[0m \u001b[0;34m'Taylor Series Approximation:'\u001b[0m\u001b[0;34m,\u001b[0m \u001b[0my\u001b[0m\u001b[0;34m\u001b[0m\u001b[0m\n\u001b[1;32m     16\u001b[0m \u001b[0;32mfrom\u001b[0m \u001b[0mmath\u001b[0m \u001b[0;32mimport\u001b[0m \u001b[0mlog\u001b[0m  \u001b[0;31m#you would guess math module would have log...yes!\u001b[0m\u001b[0;34m\u001b[0m\u001b[0m\n",
      "\u001b[0;32m<ipython-input-8-5e4167c597c5>\u001b[0m in \u001b[0;36mL\u001b[0;34m(x, n)\u001b[0m\n\u001b[1;32m      7\u001b[0m     \u001b[0mapprox\u001b[0m \u001b[0;34m=\u001b[0m \u001b[0;36m0\u001b[0m\u001b[0;34m\u001b[0m\u001b[0m\n\u001b[1;32m      8\u001b[0m     \u001b[0;32mfor\u001b[0m \u001b[0mi\u001b[0m \u001b[0;32min\u001b[0m \u001b[0mrange\u001b[0m\u001b[0;34m(\u001b[0m\u001b[0;36m1\u001b[0m\u001b[0;34m,\u001b[0m \u001b[0mn\u001b[0m\u001b[0;34m)\u001b[0m\u001b[0;34m:\u001b[0m\u001b[0;34m\u001b[0m\u001b[0m\n\u001b[0;32m----> 9\u001b[0;31m         \u001b[0mapprox\u001b[0m \u001b[0;34m+=\u001b[0m \u001b[0;34m(\u001b[0m\u001b[0;36m1.\u001b[0m\u001b[0;34m/\u001b[0m\u001b[0;34m(\u001b[0m\u001b[0mi\u001b[0m\u001b[0;34m)\u001b[0m\u001b[0;34m)\u001b[0m\u001b[0;34m*\u001b[0m\u001b[0;34m(\u001b[0m\u001b[0mx\u001b[0m\u001b[0;34m/\u001b[0m\u001b[0;34m(\u001b[0m\u001b[0;36m1.\u001b[0m\u001b[0;34m+\u001b[0m\u001b[0mx\u001b[0m\u001b[0;34m)\u001b[0m\u001b[0;34m)\u001b[0m\u001b[0;34m**\u001b[0m\u001b[0mi\u001b[0m\u001b[0;34m\u001b[0m\u001b[0m\n\u001b[0m\u001b[1;32m     10\u001b[0m     \u001b[0;32mreturn\u001b[0m \u001b[0mapprox\u001b[0m\u001b[0;34m\u001b[0m\u001b[0m\n\u001b[1;32m     11\u001b[0m \u001b[0;34m\u001b[0m\u001b[0m\n",
      "\u001b[0;31mZeroDivisionError\u001b[0m: float division by zero"
     ]
    }
   ],
   "source": [
    "import pdb\n",
    "import math\n",
    "\n",
    "def L(x, n):\n",
    "    if x <= -1:\n",
    "        print 'Error, x needs to be positive'\n",
    "    #pdb.set_trace()\n",
    "    approx = 0\n",
    "    for i in range(1, n):\n",
    "        approx += (1./(i))*(x/(1.+x))**i\n",
    "    return approx\n",
    "\n",
    "x = -1\n",
    "#approx = 0\n",
    "y = L(x, 1000)\n",
    "print 'Taylor Series Approximation:', y\n",
    "from math import log  #you would guess math module would have log...yes!\n",
    "exact_val = log(1+x)\n",
    "print 'exact_val', exact_val\n",
    "from math import log1p  #more accurate for small x.\n",
    "print 'log1p output', log1p(x)"
   ]
  },
  {
   "cell_type": "code",
   "execution_count": 14,
   "metadata": {
    "collapsed": false
   },
   "outputs": [
    {
     "name": "stdout",
     "output_type": "stream",
     "text": [
      "10000 loops, best of 3: 48.1 µs per loop\n",
      "The slowest run took 10.82 times longer than the fastest. This could mean that an intermediate result is being cached \n",
      "10000000 loops, best of 3: 176 ns per loop\n",
      "The slowest run took 15.18 times longer than the fastest. This could mean that an intermediate result is being cached \n",
      "10000000 loops, best of 3: 141 ns per loop\n"
     ]
    }
   ],
   "source": [
    "x = 10\n",
    "%timeit y = L(x, 100)\n",
    "from math import log\n",
    "%timeit exact_val = log(1+x)\n",
    "from math import log1p\n",
    "%timeit log1p(x)\n",
    "\n",
    "# How does our function compare with internal functions?"
   ]
  },
  {
   "cell_type": "code",
   "execution_count": 17,
   "metadata": {
    "collapsed": false
   },
   "outputs": [
    {
     "name": "stdout",
     "output_type": "stream",
     "text": [
      "h = 1e-01: 56.329\n",
      "h = 1e-02: 9419.5\n",
      "h = 1e-03: 9.9402e+05\n",
      "h = 1e-04: 9.994e+07\n",
      "h = 1e-05: 9.9994e+09\n",
      "h = 1e-06: 9.9999e+11\n",
      "h = 1e-07: 1e+14\n",
      "h = 1e-08: 1e+16\n",
      "h = 1e-09: 1e+18\n",
      "h = 1e-10: 1e+20\n",
      "h = 1e-11: 1e+22\n",
      "h = 1e-12: 1e+24\n",
      "h = 1e-13: 1e+26\n",
      "h = 1e-14: 1e+28\n"
     ]
    }
   ],
   "source": [
    "#numberical instability and arbitrary precision\n",
    "\n",
    "def g(t):\n",
    "    return t**(-6)\n",
    "\n",
    "#A function as an argument to another function\n",
    "def diff2(f, x, h = 1e-6):\n",
    "    r = (f(x-h)) - 2*f(x) + f(x+h)/float(h*h)\n",
    "    return r\n",
    "\n",
    "for k in range(1, 15):\n",
    "    h = 10**(-k) #accuracy check, smaller h more accurate, reach numerical accuracy limitation, expect convergence\n",
    "    d2g = diff2(g, 1, h) #can use an argument as agument for another thing\n",
    "    print 'h = {:.0e}: {:.5g}' .format(h, d2g)"
   ]
  },
  {
   "cell_type": "code",
   "execution_count": 18,
   "metadata": {
    "collapsed": false
   },
   "outputs": [
    {
     "ename": "TypeError",
     "evalue": "unsupported operand type(s) for /: 'Decimal' and 'float'",
     "output_type": "error",
     "traceback": [
      "\u001b[0;31m---------------------------------------------------------------------------\u001b[0m",
      "\u001b[0;31mTypeError\u001b[0m                                 Traceback (most recent call last)",
      "\u001b[0;32m<ipython-input-18-094af430ce90>\u001b[0m in \u001b[0;36m<module>\u001b[0;34m()\u001b[0m\n\u001b[1;32m     16\u001b[0m \u001b[0;32mfor\u001b[0m \u001b[0mk\u001b[0m \u001b[0;32min\u001b[0m \u001b[0mrange\u001b[0m\u001b[0;34m(\u001b[0m\u001b[0;36m1\u001b[0m\u001b[0;34m,\u001b[0m \u001b[0;36m15\u001b[0m\u001b[0;34m)\u001b[0m\u001b[0;34m:\u001b[0m\u001b[0;34m\u001b[0m\u001b[0m\n\u001b[1;32m     17\u001b[0m     \u001b[0mh\u001b[0m \u001b[0;34m=\u001b[0m \u001b[0;36m10\u001b[0m\u001b[0;34m**\u001b[0m\u001b[0;34m(\u001b[0m\u001b[0;34m-\u001b[0m\u001b[0mk\u001b[0m\u001b[0;34m)\u001b[0m \u001b[0;31m#accuracy check, smaller h more accurate, reach numerical accuracy limitation, expect convergence\u001b[0m\u001b[0;34m\u001b[0m\u001b[0m\n\u001b[0;32m---> 18\u001b[0;31m     \u001b[0md2g\u001b[0m \u001b[0;34m=\u001b[0m \u001b[0mdiff2\u001b[0m\u001b[0;34m(\u001b[0m\u001b[0mg\u001b[0m\u001b[0;34m,\u001b[0m \u001b[0;36m1\u001b[0m\u001b[0;34m,\u001b[0m \u001b[0mh\u001b[0m\u001b[0;34m)\u001b[0m \u001b[0;31m#can use an argument as agument for another thing\u001b[0m\u001b[0;34m\u001b[0m\u001b[0m\n\u001b[0m\u001b[1;32m     19\u001b[0m     \u001b[0;32mprint\u001b[0m \u001b[0;34m'h = {:.0e}: {:.5g}'\u001b[0m \u001b[0;34m.\u001b[0m\u001b[0mformat\u001b[0m\u001b[0;34m(\u001b[0m\u001b[0mh\u001b[0m\u001b[0;34m,\u001b[0m \u001b[0mdiff2\u001b[0m\u001b[0;34m(\u001b[0m\u001b[0mg\u001b[0m\u001b[0;34m,\u001b[0m \u001b[0;36m1\u001b[0m\u001b[0;34m,\u001b[0m \u001b[0mh\u001b[0m\u001b[0;34m)\u001b[0m\u001b[0;34m)\u001b[0m\u001b[0;34m\u001b[0m\u001b[0m\n",
      "\u001b[0;32m<ipython-input-18-094af430ce90>\u001b[0m in \u001b[0;36mdiff2\u001b[0;34m(f, x, h)\u001b[0m\n\u001b[1;32m      8\u001b[0m \u001b[0;32mdef\u001b[0m \u001b[0mdiff2\u001b[0m\u001b[0;34m(\u001b[0m\u001b[0mf\u001b[0m\u001b[0;34m,\u001b[0m \u001b[0mx\u001b[0m\u001b[0;34m,\u001b[0m \u001b[0mh\u001b[0m \u001b[0;34m=\u001b[0m \u001b[0;36m1E-9\u001b[0m\u001b[0;34m)\u001b[0m\u001b[0;34m:\u001b[0m \u001b[0;31m#lower case and upper case E are the same\u001b[0m\u001b[0;34m\u001b[0m\u001b[0m\n\u001b[1;32m      9\u001b[0m     \u001b[0mx\u001b[0m \u001b[0;34m=\u001b[0m \u001b[0mD\u001b[0m\u001b[0;34m(\u001b[0m\u001b[0mstr\u001b[0m\u001b[0;34m(\u001b[0m\u001b[0mx\u001b[0m\u001b[0;34m)\u001b[0m\u001b[0;34m)\u001b[0m\u001b[0;34m;\u001b[0m \u001b[0mh\u001b[0m \u001b[0;34m=\u001b[0m \u001b[0mD\u001b[0m\u001b[0;34m(\u001b[0m\u001b[0mstr\u001b[0m\u001b[0;34m(\u001b[0m\u001b[0mh\u001b[0m\u001b[0;34m)\u001b[0m\u001b[0;34m)\u001b[0m\u001b[0;34m\u001b[0m\u001b[0m\n\u001b[0;32m---> 10\u001b[0;31m     \u001b[0mr\u001b[0m \u001b[0;34m=\u001b[0m \u001b[0;34m(\u001b[0m\u001b[0mf\u001b[0m\u001b[0;34m(\u001b[0m\u001b[0mx\u001b[0m\u001b[0;34m-\u001b[0m\u001b[0mh\u001b[0m\u001b[0;34m)\u001b[0m\u001b[0;34m)\u001b[0m \u001b[0;34m-\u001b[0m \u001b[0;36m2\u001b[0m\u001b[0;34m*\u001b[0m\u001b[0mf\u001b[0m\u001b[0;34m(\u001b[0m\u001b[0mx\u001b[0m\u001b[0;34m)\u001b[0m \u001b[0;34m+\u001b[0m \u001b[0mf\u001b[0m\u001b[0;34m(\u001b[0m\u001b[0mx\u001b[0m\u001b[0;34m+\u001b[0m\u001b[0mh\u001b[0m\u001b[0;34m)\u001b[0m\u001b[0;34m/\u001b[0m\u001b[0mfloat\u001b[0m\u001b[0;34m(\u001b[0m\u001b[0mh\u001b[0m\u001b[0;34m*\u001b[0m\u001b[0mh\u001b[0m\u001b[0;34m)\u001b[0m\u001b[0;34m\u001b[0m\u001b[0m\n\u001b[0m\u001b[1;32m     11\u001b[0m     \u001b[0;32mreturn\u001b[0m \u001b[0mr\u001b[0m\u001b[0;34m\u001b[0m\u001b[0m\n\u001b[1;32m     12\u001b[0m \u001b[0;34m\u001b[0m\u001b[0m\n",
      "\u001b[0;31mTypeError\u001b[0m: unsupported operand type(s) for /: 'Decimal' and 'float'"
     ]
    }
   ],
   "source": [
    "#To get everything right use arbitrary precisoin\n",
    "#lazy way\n",
    "import decimal\n",
    "decimal.getcontext().prec = 30\n",
    "D = decimal.Decimal\n",
    "\n",
    "#A function as an argument to another function\n",
    "def diff2(f, x, h = 1E-9): #lower case and upper case E are the same\n",
    "    x = D(str(x)); h = D(str(h))\n",
    "    r = (f(x-h)) - 2*f(x) + f(x+h)/float(h*h)\n",
    "    return r\n",
    "\n",
    "def g(t):\n",
    "    return t**(-6)\n",
    "\n",
    "for k in range(1, 15):\n",
    "    h = 10**(-k) #accuracy check, smaller h more accurate, reach numerical accuracy limitation, expect convergence\n",
    "    d2g = diff2(g, 1, h) #can use an argument as agument for another thing\n",
    "    print 'h = {:.0e}: {:.5g}' .format(h, diff2(g, 1, h))"
   ]
  },
  {
   "cell_type": "code",
   "execution_count": 21,
   "metadata": {
    "collapsed": false
   },
   "outputs": [
    {
     "name": "stdout",
     "output_type": "stream",
     "text": [
      "13\n",
      "13\n",
      "<type 'function'>\n",
      "0.997494986604\n"
     ]
    }
   ],
   "source": [
    "#lambda function\n",
    "#the two are the same\n",
    "#good for small functions\n",
    "\n",
    "g = lambda x: x**2 + 4\n",
    "\n",
    "def f(x):\n",
    "    return x**2 + 4\n",
    "\n",
    "print g(3)\n",
    "print f(3)\n",
    "\n",
    "#more sophisticated use of lambda function\n",
    "#remember:\n",
    "#a = 2 if x = 5 else a = 0\n",
    "#really compact if statement\n",
    "from math import pi, sin\n",
    "x = 1.5\n",
    "f = lambda x: sin(x) if 0 <= x <= 2*pi else 0\n",
    "print type(f)\n",
    "print f(x)\n"
   ]
  },
  {
   "cell_type": "code",
   "execution_count": null,
   "metadata": {
    "collapsed": true
   },
   "outputs": [],
   "source": [
    "#THIS IS REALLY IMPORTANT\n",
    "#DOCTEST\n",
    "#put test @beginning of program to see if the program you wrote is functioning correctly\n",
    "#required for all homeworks now\n",
    "\n",
    "\n",
    "if __name__ == \"__main__\":\n",
    "    import doctest\n",
    "    doctest.testmod()\n",
    "    \n",
    "    x = 1000\n",
    "    y = L(x)\n",
    "    print 'Series Approximation: ', y"
   ]
  },
  {
   "cell_type": "code",
   "execution_count": null,
   "metadata": {
    "collapsed": true
   },
   "outputs": [],
   "source": [
    "#add doctest for temperature conversion"
   ]
  }
 ],
 "metadata": {
  "kernelspec": {
   "display_name": "Python 2",
   "language": "python",
   "name": "python2"
  },
  "language_info": {
   "codemirror_mode": {
    "name": "ipython",
    "version": 2
   },
   "file_extension": ".py",
   "mimetype": "text/x-python",
   "name": "python",
   "nbconvert_exporter": "python",
   "pygments_lexer": "ipython2",
   "version": "2.7.9"
  }
 },
 "nbformat": 4,
 "nbformat_minor": 0
}
