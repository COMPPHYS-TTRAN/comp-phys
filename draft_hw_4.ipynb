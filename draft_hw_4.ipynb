{
 "cells": [
  {
   "cell_type": "code",
   "execution_count": 107,
   "metadata": {
    "collapsed": false
   },
   "outputs": [
    {
     "name": "stdout",
     "output_type": "stream",
     "text": [
      "Flight \t\tDestination \t\tGate \t\tTime\n",
      "Aeroflot 34 \tMoscow \t\t5 \t9.0\n",
      "American 1 \tNew York City \t\t12 \t11.3\n",
      "Southwest 23 \tSanta Barbara \t\t6 \t12.5\n",
      "Southwest 59 \tLos Angeles \t\t11 \t14.5\n",
      "Southwest 145 \tWashington, D.C. \t\t1 \t6.0\n",
      "Southwest 146 \tChicago-Midway \t\t1 \t9.6\n",
      "SpamAir 1 \tAustin, Minnesota \t\t42 \t14.4\n",
      "USAirways 8 \tMiami \t\t20 \t13.1\n",
      "United 2 \tLos Angeles \t\t10 \t12.5\n",
      "United 3 \tDulles \t\t1 \t7.1\n",
      "United 46 \tLos Angeles \t\t5 \t6.5\n",
      "United 302 \tLondon=Heathrow \t\t5 \t6.5\n",
      "United 2032 \tMiami \t\t21 \t15.1\n"
     ]
    }
   ],
   "source": [
    "airports = {\"DCA\": \"Washington, D.C.\", \"IAD\": \"Dulles\", \"LHR\": \"London=Heathrow\", \\\n",
    "           \"SVO\": \"Moscow\", \"CDA\": \"Chicago-Midway\", \"SBA\": \"Santa Barbara\", \\\n",
    "           \"LAX\": \"Los Angeles\", \"JFK\": \"New York City\", \"MIA\": \"Miami\", \"AUM\": \"Austin, Minnesota\"}\n",
    "\n",
    "#airline, number, heading to, gate, time (decimal time)\n",
    "flights = [(\"Southwest\", 145, \"DCA\", 1, 6.00), \\\n",
    "          (\"United\", 3, \"IAD\", 1, 7.1), (\"United\", 302, \"LHR\", 5, 6.5), \\\n",
    "          (\"Aeroflot\", 34, \"SVO\", 5, 9.00), (\"Southwest\", 146, \"CDA\", 1, 9.60), \\\n",
    "          (\"United\", 46, \"LAX\", 5, 6.5), (\"Southwest\", 23, \"SBA\", 6, 12.5), \\\n",
    "          (\"United\", 2, \"LAX\", 10, 12.5), (\"Southwest\", 59, \"LAX\", 11, 14.5), \\\n",
    "          (\"American\", 1, \"JFK\", 12, 11.3), (\"USAirways\", 8, \"MIA\", 20, 13.1), \\\n",
    "          (\"United\", 2032, \"MIA\", 21, 15.1), (\"SpamAir\", 1, \"AUM\", 42, 14.4)]\n",
    "\n",
    "\n",
    "#part 1.1, sort by airline\n",
    "sorted_flights = sorted(flights)\n",
    "\n",
    "print \"Flight\", \"\\t\", \"\\t\", \"Destination\", \"\\t\", \"\\t\", \"Gate\", \"\\t\", \"\\t\", \"Time\" \n",
    "for n in range(len(flights)):   \n",
    "    flight1 = sorted_flights[n][0]\n",
    "    flight2 = sorted_flights[n][1]\n",
    "    destination1 = sorted_flights[n][2]\n",
    "    destination2 = airports[destination1]\n",
    "    gate = sorted_flights[n][3]\n",
    "    time = sorted_flights[n][4]\n",
    "    print flight1, flight2, \"\\t\", destination2, \"\\t\", \"\\t\", gate, \"\\t\", time\n",
    "    \n",
    "#part 1.2, sort by time\n",
    "flights_time = sorted(flights, key=lambda flights_airline: flights_airline[4])\n",
    "\n",
    "print \"Time\", \"\\t\", \"\\t\", \"Flight\", \"\\t\", \"\\t\", \"Destination\", \"\\t\", \"\\t\", \"Gate\" \n",
    "for n in range(len(flights)):\n",
    "    time = flights_time[n][4]\n",
    "    flight1 = flights_time[n][0]\n",
    "    flight2 = flights_time[n][1]\n",
    "    destination1 = flights_time[n][2]\n",
    "    destination2 = airports[destination1]\n",
    "    gate = flights_time[n][3]\n",
    "    print time, \"\\t\", \"\\t\", flight1, flight2, \"\\t\", destination2, \"\\t\", gate   \n",
    "    "
   ]
  },
  {
   "cell_type": "code",
   "execution_count": 117,
   "metadata": {
    "collapsed": false
   },
   "outputs": [
    {
     "name": "stdout",
     "output_type": "stream",
     "text": [
      "A boy whale named Ursher is born!!!!!!\n"
     ]
    }
   ],
   "source": [
    "import datetime\n",
    "#from datetime import age\n",
    "\n",
    "class Whale:\n",
    "    def __init__(self, name, sex):\n",
    "        self.name = name\n",
    "        self.sex = sex\n",
    "        print 'A {:s}' .format(sex), 'whale named {:s}' .format(name), 'is born!!!!!!'\n",
    "    \n",
    "    def age(self, )\n",
    "\n",
    "w = Whale('Ursher', 'boy')"
   ]
  },
  {
   "cell_type": "code",
   "execution_count": null,
   "metadata": {
    "collapsed": true
   },
   "outputs": [],
   "source": []
  }
 ],
 "metadata": {
  "kernelspec": {
   "display_name": "Python 2",
   "language": "python",
   "name": "python2"
  },
  "language_info": {
   "codemirror_mode": {
    "name": "ipython",
    "version": 2
   },
   "file_extension": ".py",
   "mimetype": "text/x-python",
   "name": "python",
   "nbconvert_exporter": "python",
   "pygments_lexer": "ipython2",
   "version": "2.7.9"
  }
 },
 "nbformat": 4,
 "nbformat_minor": 0
}
