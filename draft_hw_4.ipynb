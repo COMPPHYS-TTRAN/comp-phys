{
 "cells": [
  {
   "cell_type": "code",
   "execution_count": 73,
   "metadata": {
    "collapsed": false
   },
   "outputs": [
    {
     "name": "stdout",
     "output_type": "stream",
     "text": [
      "Flight \t\tDestination \tGate \tTime\n",
      "Aeroflot 34 \tSVO \t\t5 \t9.0\n",
      "American 1 \tJFK \t\t12 \t11.3\n",
      "Southwest 23 \tSBA \t\t6 \t12.5\n",
      "Southwest 59 \tLAX \t\t11 \t14.5\n",
      "Southwest 145 \tDCA \t\t1 \t6.0\n",
      "Southwest 146 \tCDA \t\t1 \t9.6\n",
      "SpamAir 1 \tAUM \t\t42 \t14.4\n",
      "USAirways 8 \tMIA \t\t20 \t13.1\n",
      "United 2 \tLAX \t\t10 \t12.5\n",
      "United 3 \tIAD \t\t1 \t7.1\n",
      "United 46 \tLAX \t\t5 \t6.5\n",
      "United 302 \tLHR \t\t5 \t6.5\n",
      "United 2032 \tMIA \t\t21 \t15.1\n"
     ]
    }
   ],
   "source": [
    "airports = {\"DCA\": \"Washington, D.C.\", \"IAD\": \"Dulles\", \"LHR\": \"London=Heathrow\", \\\n",
    "           \"SVO\": \"Moscow\", \"CDA\": \"Chicago-Midway\", \"SBA\": \"Santa Barbara\", \\\n",
    "           \"LAX\": \"Los Angeles\", \"JFK\": \"New York City\", \"MIA\": \"Miami\", \"AUM\": \"Austin, Minnesota\"}\n",
    "\n",
    "#airline, number, heading to, gate, time (decimal time)\n",
    "flights = [(\"Southwest\", 145, \"DCA\", 1, 6.00), \\\n",
    "          (\"United\", 3, \"IAD\", 1, 7.1), (\"United\", 302, \"LHR\", 5, 6.5), \\\n",
    "          (\"Aeroflot\", 34, \"SVO\", 5, 9.00), (\"Southwest\", 146, \"CDA\", 1, 9.60), \\\n",
    "          (\"United\", 46, \"LAX\", 5, 6.5), (\"Southwest\", 23, \"SBA\", 6, 12.5), \\\n",
    "          (\"United\", 2, \"LAX\", 10, 12.5), (\"Southwest\", 59, \"LAX\", 11, 14.5), \\\n",
    "          (\"American\", 1, \"JFK\", 12, 11.3), (\"USAirways\", 8, \"MIA\", 20, 13.1), \\\n",
    "          (\"United\", 2032, \"MIA\", 21, 15.1), (\"SpamAir\", 1, \"AUM\", 42, 14.4)]\n",
    "\n",
    "\n",
    "\n",
    "sorted_flights = sorted(flights)\n",
    "\n",
    "print \"Flight\", \"\\t\", \"\\t\", \"Destination\", \"\\t\", \"Gate\", \"\\t\", \"Time\" \n",
    "for n in range(len(flights)):   \n",
    "    flight1 = sorted_flights[n][0]\n",
    "    flight2 = sorted_flights[n][1]\n",
    "    destination = sorted_flights[n][2]\n",
    "    gate = sorted_flights[n][3]\n",
    "    time = sorted_flights[n][4]\n",
    "    print flight1, flight2, \"\\t\", destination, \"\\t\", \"\\t\", gate, \"\\t\", time"
   ]
  },
  {
   "cell_type": "code",
   "execution_count": null,
   "metadata": {
    "collapsed": true
   },
   "outputs": [],
   "source": []
  }
 ],
 "metadata": {
  "kernelspec": {
   "display_name": "Python 2",
   "language": "python",
   "name": "python2"
  },
  "language_info": {
   "codemirror_mode": {
    "name": "ipython",
    "version": 2
   },
   "file_extension": ".py",
   "mimetype": "text/x-python",
   "name": "python",
   "nbconvert_exporter": "python",
   "pygments_lexer": "ipython2",
   "version": "2.7.9"
  }
 },
 "nbformat": 4,
 "nbformat_minor": 0
}
