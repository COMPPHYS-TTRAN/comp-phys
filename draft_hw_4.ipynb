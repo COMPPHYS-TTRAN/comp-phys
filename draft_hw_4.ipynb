{
 "cells": [
  {
   "cell_type": "code",
   "execution_count": 4,
   "metadata": {
    "collapsed": false
   },
   "outputs": [
    {
     "name": "stdout",
     "output_type": "stream",
     "text": [
      "Flight \t\tDestination \t\tGate \t\tTime\n",
      "6.0 \t\tSouthwest 145 \tWashington, D.C. \t1\n",
      "6.5 \t\tUnited 302 \tLondon=Heathrow \t5\n",
      "6.5 \t\tUnited 46 \tLos Angeles \t5\n",
      "7.1 \t\tUnited 3 \tDulles \t1\n",
      "9.0 \t\tAeroflot 34 \tMoscow \t5\n",
      "9.6 \t\tSouthwest 146 \tChicago-Midway \t1\n",
      "11.3 \t\tAmerican 1 \tNew York City \t12\n",
      "12.5 \t\tSouthwest 23 \tSanta Barbara \t6\n",
      "12.5 \t\tUnited 2 \tLos Angeles \t10\n",
      "13.1 \t\tUSAirways 8 \tMiami \t20\n",
      "14.4 \t\tSpamAir 1 \tAustin, Minnesota \t42\n",
      "14.5 \t\tSouthwest 59 \tLos Angeles \t11\n",
      "15.1 \t\tUnited 2032 \tMiami \t21\n"
     ]
    }
   ],
   "source": [
    "airports = {\"DCA\": \"Washington, D.C.\", \"IAD\": \"Dulles\", \"LHR\": \"London=Heathrow\", \\\n",
    "           \"SVO\": \"Moscow\", \"CDA\": \"Chicago-Midway\", \"SBA\": \"Santa Barbara\", \\\n",
    "           \"LAX\": \"Los Angeles\", \"JFK\": \"New York City\", \"MIA\": \"Miami\", \"AUM\": \"Austin, Minnesota\"}\n",
    "\n",
    "#airline, number, heading to, gate, time (decimal time)\n",
    "flights = [(\"Southwest\", 145, \"DCA\", 1, 6.00), \\\n",
    "          (\"United\", 3, \"IAD\", 1, 7.1), (\"United\", 302, \"LHR\", 5, 6.5), \\\n",
    "          (\"Aeroflot\", 34, \"SVO\", 5, 9.00), (\"Southwest\", 146, \"CDA\", 1, 9.60), \\\n",
    "          (\"United\", 46, \"LAX\", 5, 6.5), (\"Southwest\", 23, \"SBA\", 6, 12.5), \\\n",
    "          (\"United\", 2, \"LAX\", 10, 12.5), (\"Southwest\", 59, \"LAX\", 11, 14.5), \\\n",
    "          (\"American\", 1, \"JFK\", 12, 11.3), (\"USAirways\", 8, \"MIA\", 20, 13.1), \\\n",
    "          (\"United\", 2032, \"MIA\", 21, 15.1), (\"SpamAir\", 1, \"AUM\", 42, 14.4)]\n",
    "\n",
    "\n",
    "#part 1.1, sort by airline\n",
    "sorted_flights = sorted(flights)\n",
    "\n",
    "print \"Flight\", \"\\t\", \"\\t\", \"Destination\", \"\\t\", \"\\t\", \"Gate\", \"\\t\", \"\\t\", \"Time\" \n",
    "for n in range(len(flights)):   \n",
    "    flight1 = sorted_flights[n][0]\n",
    "    flight2 = sorted_flights[n][1]\n",
    "    destination1 = sorted_flights[n][2]\n",
    "    destination2 = airports[destination1]\n",
    "    gate = sorted_flights[n][3]\n",
    "    time = sorted_flights[n][4]\n",
    "    #print flight1, flight2, \"\\t\", destination2, \"\\t\", \"\\t\", gate, \"\\t\", time\n",
    "    \n",
    "#part 1.2, sort by time\n",
    "flights_time = sorted(flights, key=lambda flights_airline: flights_airline[4])\n",
    "\n",
    "#print \"Time\", \"\\t\", \"\\t\", \"Flight\", \"\\t\", \"\\t\", \"Destination\", \"\\t\", \"\\t\", \"Gate\" \n",
    "for n in range(len(flights)):\n",
    "    time = flights_time[n][4]\n",
    "    flight1 = flights_time[n][0]\n",
    "    flight2 = flights_time[n][1]\n",
    "    destination1 = flights_time[n][2]\n",
    "    destination2 = airports[destination1]\n",
    "    gate = flights_time[n][3]\n",
    "    print time, \"\\t\", \"\\t\", flight1, flight2, \"\\t\", destination2, \"\\t\", gate   \n",
    "    "
   ]
  },
  {
   "cell_type": "code",
   "execution_count": 185,
   "metadata": {
    "collapsed": false
   },
   "outputs": [
    {
     "name": "stdout",
     "output_type": "stream",
     "text": [
      "A sdl;fkas whale named sdfa is born!!!!!! 0:00:00.000015\n",
      "0:00:00.000009\n"
     ]
    }
   ],
   "source": [
    "import datetime as dt\n",
    "import random\n",
    "from random import shuffle\n",
    "\n",
    "class Whale:\n",
    "    def __init__(self, name, sex):\n",
    "        self.name = name\n",
    "        self.sex = sex\n",
    "        self.life = dt.datetime.now()\n",
    "        self.age = dt.datetime.now() - self.life\n",
    "        print 'A ' + str(self.sex) + ' whale named ' + str(self.name) + ' is born!!!!!! ' + str(dt.datetime.now() - self.life)\n",
    "    \n",
    "    def age(self, age):\n",
    "        return age\n",
    "    \n",
    "    def __str__(self):\n",
    "        return 'A ' + str(self.sex) + ' whale named ' + str(self.name) + ' is born!!!!!! ' + str(dt.datetime.now() - self.life)\n",
    "    \n",
    "    def sing(self):\n",
    "        self.sing = sing\n",
    "        print '\\a', '\\a', '\\a', '\\a', '\\a'\n",
    "\n",
    "names = ['RKelly', 'Usher', 'Popo', 'John,', 'Tyrone', 'Albs', 'Drake', 'Scar', 'Simba', 'Tutenkhamun', \\\n",
    "         'Nala','Kate', 'Orca', 'Lily', 'Tigerlily', 'Wendy', 'Sukhi', 'No', 'TTTT', 'Mina']\n",
    "\n",
    "names_instance = []\n",
    "\n",
    "#for n in names:\n",
    "#    bg = ['boy', 'girl']\n",
    "#    random.shuffle(bg)\n",
    "#    gbbg = bg[0]\n",
    "#    x = Whale(n, gbbg)\n",
    "#    names_instance.append(x)\n",
    "\n",
    "#test = Whale('Terrence', 'Bananana')\n",
    "test2 = Whale('sdfa', 'sdl;fkas')\n",
    "\n",
    "#print test.name\n",
    "print test2.age\n",
    "#print test2.life\n",
    "\n"
   ]
  },
  {
   "cell_type": "code",
   "execution_count": 184,
   "metadata": {
    "collapsed": false
   },
   "outputs": [
    {
     "name": "stdout",
     "output_type": "stream",
     "text": [
      "0:00:00.000015\n"
     ]
    }
   ],
   "source": [
    "print test2.age"
   ]
  },
  {
   "cell_type": "code",
   "execution_count": null,
   "metadata": {
    "collapsed": true
   },
   "outputs": [],
   "source": []
  }
 ],
 "metadata": {
  "kernelspec": {
   "display_name": "Python 2",
   "language": "python",
   "name": "python2"
  },
  "language_info": {
   "codemirror_mode": {
    "name": "ipython",
    "version": 2
   },
   "file_extension": ".py",
   "mimetype": "text/x-python",
   "name": "python",
   "nbconvert_exporter": "python",
   "pygments_lexer": "ipython2",
   "version": "2.7.9"
  }
 },
 "nbformat": 4,
 "nbformat_minor": 0
}
