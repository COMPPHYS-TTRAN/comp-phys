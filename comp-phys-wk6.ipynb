{
 "cells": [
  {
   "cell_type": "markdown",
   "metadata": {},
   "source": [
    "# Topics (related to the midterm project):\n",
    "\n",
    "## 1. Regular Expression (regex, or sometimes RE)\n",
    "## 2. return vs. yield\n",
    "## 3. random.sample, numpy.random, and histogram plots "
   ]
  },
  {
   "cell_type": "markdown",
   "metadata": {},
   "source": [
    "## Regular expression\n",
    "\n",
    "\n",
    "###\"The limits of my language mean the limits of my world.\"  \n",
    "\n",
    "###\\- Ludwig Wittgenstein\n",
    "\n",
    "\n",
    "Resources:\n",
    "\n",
    "* *Effective Computation in Physics * Chapter 8\n",
    "\n",
    "* https://docs.python.org/2/library/re.html"
   ]
  },
  {
   "cell_type": "raw",
   "metadata": {},
   "source": [
    "Expression   Matches\n",
    "\n",
    "uvwxyz       uvwxyz\n",
    "\n",
    "'.'          any character except a newline. \n",
    "'*'          0 or more repetitions of the preceding RE \n",
    "             (e.g. ab* will match ‘a’, ‘ab’, or ‘a’ followed by any number of ‘b')\n",
    "             \n",
    ".*           Zero or more of any character, such as supercalifragilisticexpialidocious or 42\n",
    "'?'          0 or 1 repetitions of the preceding RE. ab? will match either ‘a’ or ‘ab’.\n",
    "\n",
    "\n",
    "[A-Z]        any character between A and Z\n",
    "[a-z]        any character between a and z\n",
    "[0-9]        any digit        \n",
    "[^]          not, e.g. [^0-9] means not a digit\n",
    "\\s           any white space characters (usually single space or tab)\n",
    "\\d           any digits (equivalent to [0-9])\n",
    "\n",
    "[u-z]        One of either u, v, q, x, y, or z"
   ]
  },
  {
   "cell_type": "markdown",
   "metadata": {},
   "source": [
    "### re.match(pattern, string, flags=0)\n",
    "\n",
    "\n",
    "###pattern:\tThis is the regular expression to be matched.\n",
    "\n",
    "###string:\tThis is the string, which would be searched to match the pattern at the beginning of string.\n",
    "\n",
    "###flags:\tYou can specify different flags, e.g., to do case insensitive search, use flags = re.I (for all flags: https://docs.python.org/2/howto/regex.html)\n",
    "\n",
    "\n",
    "### The match() function returns a match object on success, None on failure.  \n",
    "\n",
    "### Use group(num) or groups() function of match object to get matched expression.\n",
    "\n",
    "\n",
    "###*Note: match() checks for a match only at the beginning of the string*"
   ]
  },
  {
   "cell_type": "code",
   "execution_count": 1,
   "metadata": {
    "collapsed": false
   },
   "outputs": [
    {
     "name": "stdout",
     "output_type": "stream",
     "text": [
      "<_sre.SRE_Match object at 0x101c82e68>\n",
      "2015-12-16\n"
     ]
    }
   ],
   "source": [
    "# A match!\n",
    "import re\n",
    "m = re.match(\"20[01][0-9].*[0-9][0-9].*[0-9][0-9]\", '2015-12-16')\n",
    "print m\n",
    "print m.group()"
   ]
  },
  {
   "cell_type": "code",
   "execution_count": 2,
   "metadata": {
    "collapsed": false
   },
   "outputs": [
    {
     "name": "stdout",
     "output_type": "stream",
     "text": [
      "<_sre.SRE_Match object at 0x101c82f38>\n",
      "2015-12-16\n"
     ]
    }
   ],
   "source": [
    "# A match!  [0-9] --> \\d\n",
    "import re\n",
    "m = re.match(\"20[01][0-9].*[0-9][0-9].*[0-9]\\d\", '2015-12-16')\n",
    "print m\n",
    "print m.group()"
   ]
  },
  {
   "cell_type": "code",
   "execution_count": 3,
   "metadata": {
    "collapsed": false
   },
   "outputs": [
    {
     "name": "stdout",
     "output_type": "stream",
     "text": [
      "None\n"
     ]
    }
   ],
   "source": [
    "# No match\n",
    "import re\n",
    "m = re.match(\"20[01][0-9].*[0-9][ 0-9].*[0-9][0-9]\", '20')\n",
    "print m"
   ]
  },
  {
   "cell_type": "code",
   "execution_count": 4,
   "metadata": {
    "collapsed": false
   },
   "outputs": [
    {
     "name": "stdout",
     "output_type": "stream",
     "text": [
      "2015a12b16\n"
     ]
    }
   ],
   "source": [
    "# match or not?  '2015-12-16' --> '2015a12b16'\n",
    "import re\n",
    "m = re.match(\"20[01][0-9].*[ 0-9][ 0-9].*[0-9][0-9]\", '2015a12b16')\n",
    "if m:\n",
    "    print m.group()"
   ]
  },
  {
   "cell_type": "code",
   "execution_count": 5,
   "metadata": {
    "collapsed": false
   },
   "outputs": [
    {
     "name": "stdout",
     "output_type": "stream",
     "text": [
      "no match\n"
     ]
    }
   ],
   "source": [
    "# match or not?  second '.*' --> [^a-z]\n",
    "import re\n",
    "m = re.match(\"20[ 01][ 0-9].*[0-9][0-9][^a-z][0-9][0-9]\", '2015a12b16')\n",
    "if m:\n",
    "    print m.group()\n",
    "else:\n",
    "    print 'no match'"
   ]
  },
  {
   "cell_type": "code",
   "execution_count": 6,
   "metadata": {
    "collapsed": false
   },
   "outputs": [
    {
     "name": "stdout",
     "output_type": "stream",
     "text": [
      "2015a12b16\n"
     ]
    }
   ],
   "source": [
    "# match or not?  [^a-z] --> [^a]\n",
    "import re\n",
    "m = re.match(\"20[ 01][ 0-9].*[0-9][0-9][^a][0-9][0-9]\", '2015a12b16')\n",
    "if m:\n",
    "    print m.group()\n",
    "else:\n",
    "    print 'no match'"
   ]
  },
  {
   "cell_type": "code",
   "execution_count": 7,
   "metadata": {
    "collapsed": false
   },
   "outputs": [
    {
     "name": "stdout",
     "output_type": "stream",
     "text": [
      "2019adlkfj are1216\n"
     ]
    }
   ],
   "source": [
    "# match or not?\n",
    "import re\n",
    "m = re.match(\"20[01][0-9].*[0-9][0-9].*[0-9][0-9]\", '2019adlkfj are1216')\n",
    "if m:\n",
    "    print m.group()\n",
    "else:\n",
    "    print 'no match'"
   ]
  },
  {
   "cell_type": "code",
   "execution_count": 9,
   "metadata": {
    "collapsed": false
   },
   "outputs": [
    {
     "name": "stdout",
     "output_type": "stream",
     "text": [
      "2015^12&16\n"
     ]
    }
   ],
   "source": [
    "# match or not?\n",
    "import re\n",
    "m = re.match(\" 20[01][0-9].*[0-9][0-9].*[0-9][0-9]\", '2015^12&16')\n",
    "if m:\n",
    "    print m.group()\n",
    "else:\n",
    "    print 'no match'"
   ]
  },
  {
   "cell_type": "code",
   "execution_count": 10,
   "metadata": {
    "collapsed": false
   },
   "outputs": [
    {
     "name": "stdout",
     "output_type": "stream",
     "text": [
      "no match\n"
     ]
    }
   ],
   "source": [
    "# match or not?\n",
    "import re\n",
    "m = re.match(\"20[01][0-9].*[0-9][0-9].*[0-9][0-9]\", 'Something very intereting \\\n",
    "will happen on 2015-12-16.  You just wait and see.')\n",
    "if m:\n",
    "    print m.group()\n",
    "else:\n",
    "    print 'no match'"
   ]
  },
  {
   "cell_type": "code",
   "execution_count": 11,
   "metadata": {
    "collapsed": false
   },
   "outputs": [
    {
     "name": "stdout",
     "output_type": "stream",
     "text": [
      "Something very intereting will happen on 2015-12-16\n"
     ]
    }
   ],
   "source": [
    "# match or not?\n",
    "import re\n",
    "m = re.match(\".*20[01][0-9].*[0-9][0-9].*[0-9][0-9]\", 'Something very intereting \\\n",
    "will happen on 2015-12-16.  You just wait and see.')\n",
    "if m:\n",
    "    print m.group()\n",
    "else:\n",
    "    print 'no match'"
   ]
  },
  {
   "cell_type": "code",
   "execution_count": 12,
   "metadata": {
    "collapsed": false
   },
   "outputs": [
    {
     "name": "stdout",
     "output_type": "stream",
     "text": [
      "None\n"
     ]
    }
   ],
   "source": [
    "# Match or not?\n",
    "import re\n",
    "m = re.match(\".*20[01][0-9]-[0-9][0-9]-[0-9][0-9]\", 'Something very intereting \\\n",
    "will happen on 2015.12.16.  You just wait and see.') #dash does not match dot\n",
    "print m"
   ]
  },
  {
   "cell_type": "markdown",
   "metadata": {},
   "source": [
    "## re.search()\n",
    "\n",
    "### If you want to locate a match anywhere in string, use search()"
   ]
  },
  {
   "cell_type": "code",
   "execution_count": null,
   "metadata": {
    "collapsed": false
   },
   "outputs": [],
   "source": [
    "import re\n",
    "m = re.search(\"20[01][0-9]-[0-9][0-9]-[0-9][0-9]\", 'Something very intereting \\\n",
    "will happen on 2015-12-16.  You just wait and see.')\n",
    "print m\n",
    "print m.group()"
   ]
  },
  {
   "cell_type": "code",
   "execution_count": 13,
   "metadata": {
    "collapsed": false
   },
   "outputs": [
    {
     "name": "stdout",
     "output_type": "stream",
     "text": [
      "2015-12-16\n",
      "2015-12-16\n",
      "year: 2015\n",
      "month: 12\n",
      "date: 16\n"
     ]
    }
   ],
   "source": [
    "# the .group() method, and note: the second occurrence was ignored.\n",
    "import re\n",
    "m = re.search(\"(20[01][0-9])-([0-9][0-9])-([0-9][0-9])\", 'Something very intereting \\\n",
    "will happen on 2015-12-16.  You just wait and see, only after 2015-12-16.')\n",
    "print m.group()\n",
    "print m.group(0) #group(0) is the total group: group() = group(0)\n",
    "print 'year:', m.group(1)\n",
    "print 'month:', m.group(2)\n",
    "print 'date:', m.group(3)\n",
    "\n",
    "#stops looking once a match is made\n",
    "#to continue looking, use findall() "
   ]
  },
  {
   "cell_type": "markdown",
   "metadata": {},
   "source": [
    "## re.search()\n",
    "\n",
    "### To find all occurrences, and return the results as a list"
   ]
  },
  {
   "cell_type": "code",
   "execution_count": 1,
   "metadata": {
    "collapsed": false
   },
   "outputs": [
    {
     "name": "stdout",
     "output_type": "stream",
     "text": [
      "['2015-12-16', '2015-12-18'] <type 'list'>\n"
     ]
    }
   ],
   "source": [
    "# Match!\n",
    "import re\n",
    "m = re.findall(\"20[01][0-9]-[0-9][0-9]-[0-9][0-9]\", 'Something very intereting \\\n",
    "will happen on 2015-12-16.  You just wait and see, only after 2015-12-18.')\n",
    "print m, type(m)"
   ]
  },
  {
   "cell_type": "markdown",
   "metadata": {},
   "source": [
    "## Breakout Problem:\n",
    "\n",
    "### The following text is copied from wikipedia,\n",
    "\n",
    "### \"The current men's world record is 9.58 seconds, set by Jamaica's Usain Bolt in 2009,\"\n",
    "\n",
    "### By using re.match(), extract the world record time.  You cannot use any actual words in your pattern, e.g. \"seconds\" would not be allowed.\n",
    "\n"
   ]
  },
  {
   "cell_type": "code",
   "execution_count": null,
   "metadata": {
    "collapsed": true
   },
   "outputs": [],
   "source": []
  },
  {
   "cell_type": "markdown",
   "metadata": {},
   "source": [
    "## return vs. yield"
   ]
  },
  {
   "cell_type": "code",
   "execution_count": 15,
   "metadata": {
    "collapsed": false
   },
   "outputs": [
    {
     "name": "stdout",
     "output_type": "stream",
     "text": [
      "10\n",
      "True\n",
      "y[3] 3\n",
      "True\n",
      "(0, 0)\n",
      "(1, 1)\n",
      "z[3]"
     ]
    },
    {
     "ename": "TypeError",
     "evalue": "'enumerate' object has no attribute '__getitem__'",
     "output_type": "error",
     "traceback": [
      "\u001b[0;31m---------------------------------------------------------------------------\u001b[0m",
      "\u001b[0;31mTypeError\u001b[0m                                 Traceback (most recent call last)",
      "\u001b[0;32m<ipython-input-15-5762c48b9930>\u001b[0m in \u001b[0;36m<module>\u001b[0;34m()\u001b[0m\n\u001b[1;32m     11\u001b[0m \u001b[0;32mprint\u001b[0m \u001b[0mz\u001b[0m\u001b[0;34m.\u001b[0m\u001b[0mnext\u001b[0m\u001b[0;34m(\u001b[0m\u001b[0;34m)\u001b[0m\u001b[0;34m\u001b[0m\u001b[0m\n\u001b[1;32m     12\u001b[0m \u001b[0;32mprint\u001b[0m \u001b[0mz\u001b[0m\u001b[0;34m.\u001b[0m\u001b[0mnext\u001b[0m\u001b[0;34m(\u001b[0m\u001b[0;34m)\u001b[0m\u001b[0;34m\u001b[0m\u001b[0m\n\u001b[0;32m---> 13\u001b[0;31m \u001b[0;32mprint\u001b[0m \u001b[0;34m'z[3]'\u001b[0m\u001b[0;34m,\u001b[0m \u001b[0mz\u001b[0m\u001b[0;34m[\u001b[0m\u001b[0;36m3\u001b[0m\u001b[0;34m]\u001b[0m\u001b[0;34m\u001b[0m\u001b[0m\n\u001b[0m\u001b[1;32m     14\u001b[0m \u001b[0;31m#print z[3]                      # will also get error.\u001b[0m\u001b[0;34m\u001b[0m\u001b[0;34m\u001b[0m\u001b[0m\n",
      "\u001b[0;31mTypeError\u001b[0m: 'enumerate' object has no attribute '__getitem__'"
     ]
    }
   ],
   "source": [
    "# A peculiar thing about enumerate(): you can't use len() with enumerate()!\n",
    "from collections import Iterable\n",
    "y = range(10)\n",
    "print len(y)\n",
    "print isinstance(y, Iterable)\n",
    "print 'y[3]', y[3]\n",
    "\n",
    "z = enumerate(range(10))\n",
    "print isinstance(z, Iterable)\n",
    "#print len(z)                     # will get error.\n",
    "print z.next()\n",
    "print z.next()\n",
    "print 'z[3]', z[3] #\n",
    "#print z[3]                      # will also get error."
   ]
  },
  {
   "cell_type": "markdown",
   "metadata": {},
   "source": [
    "## eunmerate() *is* an iterable; but not all iterables have a length!"
   ]
  },
  {
   "cell_type": "code",
   "execution_count": 17,
   "metadata": {
    "collapsed": false
   },
   "outputs": [
    {
     "name": "stdout",
     "output_type": "stream",
     "text": [
      "[0, 1, 2, 3, 4, 5]\n"
     ]
    }
   ],
   "source": [
    "# return:\n",
    "def create_integers(N):\n",
    "    lst=[]\n",
    "    for i in range(N):\n",
    "        lst.append(i)\n",
    "    return lst\n",
    "newints = create_integers(6)    \n",
    "print newints \n"
   ]
  },
  {
   "cell_type": "code",
   "execution_count": 18,
   "metadata": {
    "collapsed": false
   },
   "outputs": [
    {
     "name": "stdout",
     "output_type": "stream",
     "text": [
      "<type 'function'> <type 'list'>\n"
     ]
    }
   ],
   "source": [
    "print type(create_integers), type(newints)\n"
   ]
  },
  {
   "cell_type": "code",
   "execution_count": 36,
   "metadata": {
    "collapsed": false
   },
   "outputs": [
    {
     "name": "stdout",
     "output_type": "stream",
     "text": [
      "<type 'function'> <type 'generator'>\n"
     ]
    }
   ],
   "source": [
    "# yield:\n",
    "from pdb import set_trace\n",
    "def generate_integers(N):\n",
    "    for i in range(N):\n",
    "        # note: it's inside the for loop!\n",
    "        yield i\n",
    "        #set_trace()\n",
    "        print 'The {:d}th time generate_integers() is called'.format(i+1)\n",
    "gen = generate_integers(6)\n",
    "print type(generate_integers), type(gen)\n"
   ]
  },
  {
   "cell_type": "code",
   "execution_count": 37,
   "metadata": {
    "collapsed": false
   },
   "outputs": [
    {
     "data": {
      "text/plain": [
       "0"
      ]
     },
     "execution_count": 37,
     "metadata": {},
     "output_type": "execute_result"
    }
   ],
   "source": [
    "# It shows you that the next generate_integers() is called, \n",
    "# python starts from the statement immediately below the yield statement.\n",
    "gen.next()"
   ]
  },
  {
   "cell_type": "code",
   "execution_count": 38,
   "metadata": {
    "collapsed": false
   },
   "outputs": [
    {
     "name": "stdout",
     "output_type": "stream",
     "text": [
      "The 1th time generate_integers() is called\n",
      "1\n",
      "The 2th time generate_integers() is called\n",
      "2\n",
      "The 3th time generate_integers() is called\n",
      "3\n",
      "The 4th time generate_integers() is called\n",
      "4\n",
      "The 5th time generate_integers() is called\n",
      "5\n",
      "The 6th time generate_integers() is called\n"
     ]
    },
    {
     "ename": "StopIteration",
     "evalue": "",
     "output_type": "error",
     "traceback": [
      "\u001b[0;31m---------------------------------------------------------------------------\u001b[0m",
      "\u001b[0;31mStopIteration\u001b[0m                             Traceback (most recent call last)",
      "\u001b[0;32m<ipython-input-38-f7c24fcb2c9e>\u001b[0m in \u001b[0;36m<module>\u001b[0;34m()\u001b[0m\n\u001b[1;32m      1\u001b[0m \u001b[0;32mfor\u001b[0m \u001b[0mi\u001b[0m \u001b[0;32min\u001b[0m \u001b[0mrange\u001b[0m\u001b[0;34m(\u001b[0m\u001b[0;36m6\u001b[0m\u001b[0;34m)\u001b[0m\u001b[0;34m:\u001b[0m\u001b[0;34m\u001b[0m\u001b[0m\n\u001b[0;32m----> 2\u001b[0;31m     \u001b[0;32mprint\u001b[0m \u001b[0mgen\u001b[0m\u001b[0;34m.\u001b[0m\u001b[0mnext\u001b[0m\u001b[0;34m(\u001b[0m\u001b[0;34m)\u001b[0m\u001b[0;34m\u001b[0m\u001b[0m\n\u001b[0m",
      "\u001b[0;31mStopIteration\u001b[0m: "
     ]
    }
   ],
   "source": [
    "for i in range(6):\n",
    "    print gen.next()\n"
   ]
  },
  {
   "cell_type": "code",
   "execution_count": null,
   "metadata": {
    "collapsed": false
   },
   "outputs": [],
   "source": [
    "# You will get error if the previous cell has been run.\n",
    "for i in range(6):\n",
    "    print gen.next()"
   ]
  },
  {
   "cell_type": "markdown",
   "metadata": {},
   "source": [
    "##Breakout Problem: Write a function that generates all Fibonacci numbers less than 300 by using yield.  \n",
    "\n",
    "Definition: F\\_n = F\\_{n-1} + F\\_{n-2}; F\\_0 = 0 and F\\_1 = 1.  \n",
    "\n",
    "Hint: Once you have calculated F\\_3, you have no need for F\\_0 and F\\_1; \n",
    "once you know F\\_4, you have no need for F\\_3 and F\\_2; and so forth.\n",
    "So for every new round, you only need to keep the previous two numbers.\n",
    "\n",
    "Computing by hand:\n",
    "F\\_0 = 0\n",
    "F\\_1 = 1\n",
    "F\\_2 = 1\n",
    "F\\_3 = 2\n",
    "...\n"
   ]
  },
  {
   "cell_type": "code",
   "execution_count": 52,
   "metadata": {
    "collapsed": false
   },
   "outputs": [
    {
     "name": "stdout",
     "output_type": "stream",
     "text": [
      "0\n"
     ]
    }
   ],
   "source": [
    "def fib(n):\n",
    "    var1 = 0\n",
    "    var2 = 1\n",
    "    for i in range(n):\n",
    "        yield var1 \n",
    "        var1_og = var1\n",
    "        var1 = var2\n",
    "        var2 = var1_og + var2\n",
    "        \n",
    "gen = fib(10)\n",
    "print gen.next()\n"
   ]
  },
  {
   "cell_type": "code",
   "execution_count": 57,
   "metadata": {
    "collapsed": false
   },
   "outputs": [
    {
     "name": "stdout",
     "output_type": "stream",
     "text": [
      "5\n"
     ]
    }
   ],
   "source": [
    "print gen.next()"
   ]
  },
  {
   "cell_type": "code",
   "execution_count": null,
   "metadata": {
    "collapsed": true
   },
   "outputs": [],
   "source": []
  },
  {
   "cell_type": "code",
   "execution_count": null,
   "metadata": {
    "collapsed": false
   },
   "outputs": [],
   "source": [
    "ind = 0\n",
    "for i in fib():\n",
    "    #print 'ind = ', ind\n",
    "    ind += 1\n",
    "    if i > 300:\n",
    "        break\n",
    "    else:\n",
    "        print i\n",
    "        \n",
    "# Let's work out the flow of the code.\n",
    "# This is an elegant, memory efficient way of generating Fibonacci numbers \n",
    "# (note: at any time only the latest two Fibonacci numbers take up memory, \n",
    "# as is necessary for the calculation of the next Fib number.   \n",
    "# All previous Fib numbers are \"forgotten\"!)\n",
    "# This is very different from the \"list\" way of doing things, where every element \n",
    "# takes up memory.\n"
   ]
  },
  {
   "cell_type": "markdown",
   "metadata": {},
   "source": [
    "## The random module\n",
    "\n",
    "from http://docs.python.org/2/library/random.html:"
   ]
  },
  {
   "cell_type": "code",
   "execution_count": 1,
   "metadata": {
    "collapsed": false
   },
   "outputs": [
    {
     "name": "stdout",
     "output_type": "stream",
     "text": [
      "['y', 'c', 'a', 'b', 'z', 'd', 'x']\n"
     ]
    }
   ],
   "source": [
    "import random\n",
    "lst = ['a', 'b', 'c', 'd', 'x', 'y', 'z']\n",
    "random.shuffle(lst)   ### this shuffles the list in place.  \n",
    "print lst   ### you can run this as many times as you want.\n",
    "#changes the existing object\n",
    "#does not create a new object/list "
   ]
  },
  {
   "cell_type": "code",
   "execution_count": 2,
   "metadata": {
    "collapsed": false
   },
   "outputs": [
    {
     "data": {
      "text/plain": [
       "0.5404298146714666"
      ]
     },
     "execution_count": 2,
     "metadata": {},
     "output_type": "execute_result"
    }
   ],
   "source": [
    "import random \n",
    "random.random()"
   ]
  },
  {
   "cell_type": "markdown",
   "metadata": {},
   "source": [
    "##random.sample(population, k)\n",
    "\n",
    "Return a k length list of unique elements chosen from the population sequence. \n",
    "\n",
    "Returns a new list containing elements from the population while leaving the original population unchanged. \n"
   ]
  },
  {
   "cell_type": "code",
   "execution_count": 6,
   "metadata": {
    "collapsed": false
   },
   "outputs": [
    {
     "name": "stdout",
     "output_type": "stream",
     "text": [
      "[7225965, 4010124, 8394283, 9819111, 2605122, 3943453, 2780271, 9015186, 9623191, 3280320]\n"
     ]
    }
   ],
   "source": [
    "# Example of random.sample:\n",
    "from random import sample\n",
    "print sample(xrange(10000000), 10)\n",
    "# Note the difference between xrange() and range(): xrange() doesn't create an entire list, \n",
    "# but creates the values when asked for them.\n",
    "# So it's much better to use xrange() here owing to the large argument."
   ]
  },
  {
   "cell_type": "code",
   "execution_count": 7,
   "metadata": {
    "collapsed": false
   },
   "outputs": [
    {
     "name": "stdout",
     "output_type": "stream",
     "text": [
      "<type 'str'> 26\n",
      "abcdefghijklmnopqrstuvwxyz\n",
      "['g', 'q', 'd', 'b', 'x', 'v', 'z', 'p', 'r', 's']\n"
     ]
    }
   ],
   "source": [
    "### Another example: \n",
    "from string import ascii_lowercase\n",
    "print type(ascii_lowercase), len(ascii_lowercase)\n",
    "# So yes, you can only import modules, functions but also strings and other objects.\n",
    "# In Python: almost everything is an object (modules, functions, strings, ints, floats,\n",
    "# dictionaries, lists, classes, etc.)\n",
    "# and therefore, there is no fundamental difference between them in terms of how they\n",
    "# are treated and used in Python.\n",
    "print ascii_lowercase\n",
    "print sample(ascii_lowercase, 10)"
   ]
  },
  {
   "cell_type": "markdown",
   "metadata": {},
   "source": [
    "## ASCII stands for: American Standard Code for Information Interchange"
   ]
  },
  {
   "cell_type": "markdown",
   "metadata": {},
   "source": [
    "## numpy.random\n",
    "\n",
    "http://docs.scipy.org/doc/numpy/reference/routines.random.html\n",
    "\n",
    "Gaussian distribution -- mu is the mean, and sigma is the standard deviation. "
   ]
  },
  {
   "cell_type": "code",
   "execution_count": 8,
   "metadata": {
    "collapsed": false
   },
   "outputs": [
    {
     "name": "stdout",
     "output_type": "stream",
     "text": [
      "-1.93192858848\n"
     ]
    }
   ],
   "source": [
    "from numpy.random import randn #randn() gives guassian distribution with standard deviation of 1 around 0\n",
    "x = randn()\n",
    "print x"
   ]
  },
  {
   "cell_type": "code",
   "execution_count": 10,
   "metadata": {
    "collapsed": false
   },
   "outputs": [
    {
     "name": "stdout",
     "output_type": "stream",
     "text": [
      "0.738269482034\n"
     ]
    }
   ],
   "source": [
    "from numpy.random import rand\n",
    "x = rand()\n",
    "print x"
   ]
  },
  {
   "cell_type": "code",
   "execution_count": 11,
   "metadata": {
    "collapsed": false
   },
   "outputs": [
    {
     "name": "stdout",
     "output_type": "stream",
     "text": [
      "[ 3.39301379  0.99996989  3.41786441  3.85919242  3.65946238  5.0766393\n",
      "  5.85473445  2.11629948  1.68443272  6.11396462]\n",
      "3.61755734485\n",
      "1.62354185371\n"
     ]
    }
   ],
   "source": [
    "import numpy as np\n",
    "from numpy.random import randn\n",
    "x = randn(10)*2. + 3.\n",
    "print x\n",
    "print np.mean(x)\n",
    "print np.std(x)"
   ]
  },
  {
   "cell_type": "code",
   "execution_count": 12,
   "metadata": {
    "collapsed": false
   },
   "outputs": [
    {
     "name": "stdout",
     "output_type": "stream",
     "text": [
      "n (normalized height, or probability density): [  8.52749963e-05   8.52749963e-05   2.13187491e-04   2.13187491e-04\n",
      "   1.70549993e-04   2.13187491e-04   4.69012480e-04   9.38024959e-04\n",
      "   1.23648745e-03   1.74813742e-03   2.72879988e-03   2.68616238e-03\n",
      "   4.90331229e-03   5.67078725e-03   8.78332462e-03   1.09578370e-02\n",
      "   1.24501495e-02   1.39850994e-02   1.77371992e-02   1.94000617e-02\n",
      "   2.46444739e-02   2.24699615e-02   2.58383239e-02   2.61367864e-02\n",
      "   2.57530489e-02   2.58809614e-02   2.54972239e-02   2.43460114e-02\n",
      "   2.07218241e-02   1.99543491e-02   1.73534617e-02   1.47952119e-02\n",
      "   1.17679495e-02   9.80662457e-03   7.12046219e-03   5.15913728e-03\n",
      "   3.75209984e-03   3.06989987e-03   2.72879988e-03   1.70549993e-03\n",
      "   9.80662457e-04   8.10112465e-04   5.54287476e-04   3.41099985e-04\n",
      "   1.70549993e-04   1.70549993e-04   4.26374982e-05   8.52749963e-05\n",
      "   0.00000000e+00   4.26374982e-05] 50\n",
      "bins (locations of bin edges): [  42.78962089   45.13497426   47.48032763   49.825681     52.17103437\n",
      "   54.51638774   56.86174111   59.20709448   61.55244785   63.89780122\n",
      "   66.24315459   68.58850796   70.93386133   73.2792147    75.62456808\n",
      "   77.96992145   80.31527482   82.66062819   85.00598156   87.35133493\n",
      "   89.6966883    92.04204167   94.38739504   96.73274841   99.07810178\n",
      "  101.42345515  103.76880852  106.11416189  108.45951526  110.80486863\n",
      "  113.150222    115.49557538  117.84092875  120.18628212  122.53163549\n",
      "  124.87698886  127.22234223  129.5676956   131.91304897  134.25840234\n",
      "  136.60375571  138.94910908  141.29446245  143.63981582  145.98516919\n",
      "  148.33052256  150.67587593  153.0212293   155.36658268  157.71193605\n",
      "  160.05728942] 51\n"
     ]
    },
    {
     "data": {
      "image/png": "[encoded data removed]",
      "text/plain": [
       "<matplotlib.figure.Figure at 0x10ad22350>"
      ]
     },
     "metadata": {},
     "output_type": "display_data"
    }
   ],
   "source": [
    "%matplotlib inline\n",
    "import numpy as np\n",
    "import matplotlib.pyplot as plt\n",
    "\n",
    "\n",
    "x = np.random.randn(10000)*15 + 100\n",
    "fig = plt.figure()\n",
    "ax = fig.add_subplot(111)\n",
    "\n",
    "# the histogram of the data\n",
    "\n",
    "Nbins = 50\n",
    "# normed=1: the total area adds up to 1; # alpha: level of tranparency.\n",
    "n, bins, patches = ax.hist(x, Nbins, normed=1, facecolor='green', alpha=.5)\n",
    "print 'n (normalized height, or probability density):', n, len(n)\n",
    "print 'bins (locations of bin edges):', bins, len(bins)\n",
    "\n",
    "# hist uses np.histogram under the hood to create 'n' and 'bins'.\n",
    "# np.histogram returns the bin edges, so there will be Nbin probability\n",
    "# density values (n), Nbin+1 bin edges (bins), and finally, Nbin patches.\n",
    "\n",
    "ax.set_xlabel('IQ')\n",
    "ax.set_ylabel('Probability')\n",
    "# The is Latex, a typsetting \"program\".\n",
    "ax.set_title(r'$\\mathrm{Histogram\\ of\\ IQ:}\\ \\mu=100,\\ \\sigma=15$')\n",
    "# Pay attention to how the x and y axis limits are set.\n",
    "ax.set_xlim(0, 200)\n",
    "ax.set_ylim(0, 0.03)\n",
    "ax.grid(True)\n",
    "\n",
    "plt.show()\n"
   ]
  },
  {
   "cell_type": "markdown",
   "metadata": {},
   "source": [
    "## End of wk 6-1"
   ]
  }
 ],
 "metadata": {
  "kernelspec": {
   "display_name": "Python 2",
   "language": "python",
   "name": "python2"
  },
  "language_info": {
   "codemirror_mode": {
    "name": "ipython",
    "version": 2
   },
   "file_extension": ".py",
   "mimetype": "text/x-python",
   "name": "python",
   "nbconvert_exporter": "python",
   "pygments_lexer": "ipython2",
   "version": "2.7.9"
  }
 },
 "nbformat": 4,
 "nbformat_minor": 0
}
